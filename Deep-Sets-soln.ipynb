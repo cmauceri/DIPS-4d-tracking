{
 "cells": [
  {
   "cell_type": "markdown",
   "id": "similar-meditation",
   "metadata": {},
   "source": [
    "# Deep Sets Tutorial\n",
    "\n",
    "We were motivated to try Deep Sets ATLAS FTAG from the lovely \"Energy Flow Networks: Deep Sets for Particle Jets\" [paper](https://arxiv.org/abs/1810.05165) which includes a really nice pip installable [energyflow](https://energyflow.network/installation/) package as well.\n",
    "\n",
    "To end, we're using the same notation and variable names as the paper and code base, but this tutorial works with networks built in keras so we can do a few more studies with the network internals.\n",
    "\n",
    "Below are the topics that this tutorial covers:\n",
    "\n",
    "**Table of Contents:**\n",
    "1. [Loading in the dataset](#dataset)\n",
    "2. [Set up + train an architecture](#model)\n",
    "3. [Other permutation invariant operators](#permOps)\n",
    "4. [Including batch norm](#bn)\n",
    "\n",
    "Section (2) constitutes the bulk of the goals of this tutorial, while sections (3) and (4) give follow-up exercises to build our understanding by modifying different aspects of the network structure."
   ]
  },
  {
   "cell_type": "code",
   "execution_count": 1,
   "id": "cleared-evanescence",
   "metadata": {},
   "outputs": [],
   "source": [
    "import numpy as np\n",
    "import pandas as pd\n",
    "import matplotlib.pyplot as plt\n",
    "\n",
    "import h5py"
   ]
  },
  {
   "cell_type": "markdown",
   "id": "incoming-accreditation",
   "metadata": {},
   "source": [
    "**Step 1:** Load in a preprocessed dataset\n",
    "<a name=\"dataset\"></a>\n",
    "\n",
    "The preprocessing is inside of the `Ntuple-Exploration notebook`.\n",
    "The (standard) dips inputs from [ATL-PHYS-PUB-2020-014](http://cds.cern.ch/record/2718948/files/ATL-PHYS-PUB-2020-014.pdf) are shown in the table below.\n",
    "<img src=\"dips-inputs.png\"\n",
    "     width=500/>\n",
    "\n",
    "\n",
    "Not all of these are present inside of the Ntuple right now, so we're working with an 8-dim input vector: \n",
    "`['sd0','sz0','ptfrac','dr','numPix', 'numSCT','d0','z0']`\n",
    "\n",
    "Additionally, jets that have less than 40 tracks are \"padded\" with zeros pass a fixed dimensional input vectors, although these padded tracks will be ignored in the computation.\n"
   ]
  },
  {
   "cell_type": "code",
   "execution_count": 2,
   "id": "after-exception",
   "metadata": {},
   "outputs": [],
   "source": [
    "fDir = 'data' \n",
    "dname = f'{fDir}/output.hdf5'"
   ]
  },
  {
   "cell_type": "code",
   "execution_count": 54,
   "id": "cubic-playing",
   "metadata": {},
   "outputs": [],
   "source": [
    "f = h5py.File(dname,\"r\")\n",
    "\n",
    "X_train       = f['X_train'][:]\n",
    "y_train       = f['y_train'][:]\n",
    "ix_train      = f['ix_train'][:]\n",
    "weights_train = f['weights_train'][:] # Weights to avoid learning directly from the pT dist\n"
   ]
  },
  {
   "cell_type": "code",
   "execution_count": null,
   "id": "518f16a8",
   "metadata": {},
   "outputs": [],
   "source": []
  },
  {
   "cell_type": "code",
   "execution_count": 28,
   "id": "42a57d4a",
   "metadata": {},
   "outputs": [
    {
     "data": {
      "text/plain": [
       "(array([ 0,  1,  2,  3, 44, 54, 55]),\n",
       " array([534,  59, 362,  38,   3,   3,   1]))"
      ]
     },
     "execution_count": 28,
     "metadata": {},
     "output_type": "execute_result"
    }
   ],
   "source": [
    "np.unique(y_train,return_counts=True)"
   ]
  },
  {
   "cell_type": "markdown",
   "id": "d76bc7ed-f624-46a9-8884-d0fb46230e6c",
   "metadata": {},
   "source": [
    "**Category definitions:** The y vector is the truth label for the jet:\n",
    "- <span style=\"color:royalblue\"> 0: light-jet </span>. \n",
    "- <span style=\"color:orange\"> 1: c-jet </span>.\n",
    "- <span style=\"color:limegreen\"> 2: b-jet </span>\n",
    "- <span style=\"color:crimson\"> 3: $\\tau$-jet </span> - but we'll remove these from the training set\n",
    "\n",
    "<span style=\"color:royalblue\"> **Need to check these label definitions with Lorenzo!!** </span>. "
   ]
  },
  {
   "cell_type": "code",
   "execution_count": 67,
   "id": "f6eb0ec2-2632-4d1d-8391-384f168539d4",
   "metadata": {},
   "outputs": [],
   "source": [
    "nClasses = 3 # Only consider l, c, and b-jets\n",
    "\n",
    "if y_train.max() >= nClasses:\n",
    "\n",
    "    valid_targets = (y_train < nClasses)\n",
    "\n",
    "    X_train       = X_train[valid_targets]\n",
    "    y_train       = y_train[valid_targets]\n",
    "    ix_train      = ix_train[valid_targets]\n",
    "    weights_train = weights_train[valid_targets]"
   ]
  },
  {
   "cell_type": "markdown",
   "id": "2c7e93df-7e44-402e-839d-c476fbb14d04",
   "metadata": {},
   "source": [
    "**Transform the input vector to a one-hot vector**"
   ]
  },
  {
   "cell_type": "code",
   "execution_count": 68,
   "id": "be1a229e-75ef-4212-af13-44128a7aa325",
   "metadata": {},
   "outputs": [
    {
     "data": {
      "text/plain": [
       "array([2, 0, 2, 0])"
      ]
     },
     "execution_count": 68,
     "metadata": {},
     "output_type": "execute_result"
    }
   ],
   "source": [
    "y_train[:4]"
   ]
  },
  {
   "cell_type": "code",
   "execution_count": 69,
   "id": "4eed0984-e468-4a1e-8911-6004d2431fa8",
   "metadata": {},
   "outputs": [],
   "source": [
    "from keras.utils.np_utils import to_categorical\n",
    "\n",
    "y_train_cat = to_categorical(y_train, num_classes=nClasses)"
   ]
  },
  {
   "cell_type": "code",
   "execution_count": 70,
   "id": "8ca28d11-34de-467b-bcde-b6d9c0f18117",
   "metadata": {},
   "outputs": [
    {
     "data": {
      "text/plain": [
       "array([[0., 0., 1.],\n",
       "       [1., 0., 0.],\n",
       "       [0., 0., 1.],\n",
       "       [1., 0., 0.]], dtype=float32)"
      ]
     },
     "execution_count": 70,
     "metadata": {},
     "output_type": "execute_result"
    }
   ],
   "source": [
    "y_train_cat[:4]"
   ]
  },
  {
   "cell_type": "code",
   "execution_count": 9,
   "id": "particular-ghost",
   "metadata": {},
   "outputs": [
    {
     "data": {
      "text/plain": [
       "(955, 40, 8)"
      ]
     },
     "execution_count": 9,
     "metadata": {},
     "output_type": "execute_result"
    }
   ],
   "source": [
    "X_train.shape"
   ]
  },
  {
   "cell_type": "code",
   "execution_count": null,
   "id": "banner-radical",
   "metadata": {},
   "outputs": [],
   "source": []
  },
  {
   "cell_type": "markdown",
   "id": "ready-heath",
   "metadata": {},
   "source": [
    "**Step 2:** Set up a Deep Sets architecture\n",
    "<a name=\"model\"></a>\n"
   ]
  },
  {
   "cell_type": "code",
   "execution_count": 10,
   "id": "43664b4c-9541-46d4-95ef-bdaab9ed28d5",
   "metadata": {},
   "outputs": [],
   "source": [
    "from tensorflow import keras\n",
    "from keras.layers import BatchNormalization, Layer, TimeDistributed\n",
    "from keras.layers import Dense, Input, ReLU, Masking\n",
    "from keras.models import Model\n",
    "\n",
    "from keras.callbacks import EarlyStopping, ModelCheckpoint\n",
    "from keras import backend as K"
   ]
  },
  {
   "cell_type": "code",
   "execution_count": null,
   "id": "defc2b1e-6422-4d0a-9567-8858041e29f0",
   "metadata": {},
   "outputs": [],
   "source": []
  },
  {
   "cell_type": "markdown",
   "id": "solved-springer",
   "metadata": {},
   "source": [
    "Keras is very modular and lets you stack layers like legos to build a custom architecture. For the Deep-Sets model, we just needed a custom layer to implement this sum over tracks, which is implemented in the block below."
   ]
  },
  {
   "cell_type": "code",
   "execution_count": 11,
   "id": "3337e6a8-0f8b-4535-afcf-fb4a51dd8820",
   "metadata": {},
   "outputs": [],
   "source": [
    "class Sum(Layer):\n",
    "    \"\"\"\n",
    "    Simple sum layer à la Dan Guest\n",
    "    \"\"\"\n",
    "\n",
    "    def __init__(self, **kwargs):\n",
    "        super().__init__(**kwargs)\n",
    "        self.supports_masking = True\n",
    "\n",
    "    def build(self, input_shape):\n",
    "        pass\n",
    "\n",
    "    def call(self, x, mask=None):\n",
    "        if mask is not None:\n",
    "            x = x * K.cast(mask, K.dtype(x))[:,:,None]\n",
    "        return K.sum(x, axis=1)\n",
    "\n",
    "    def compute_output_shape(self, input_shape):\n",
    "        return input_shape[0], input_shape[2]\n",
    "\n",
    "    def compute_mask(self, inputs, mask):\n",
    "        return None"
   ]
  },
  {
   "cell_type": "code",
   "execution_count": null,
   "id": "useful-preservation",
   "metadata": {},
   "outputs": [],
   "source": []
  },
  {
   "cell_type": "markdown",
   "id": "handled-anniversary",
   "metadata": {},
   "source": [
    "**Set up the model skeleton** \n",
    "\n",
    "The model parameters are set as variables to be easy to change in the tutorial.\n",
    "\n",
    "- `ppm_sizes_int`: A list defining the size for each of the dense layers of the per particle network Φ\n",
    "- `dense_sizes_int`: A list defining the size for each of the dense layers of the per particle network F"
   ]
  },
  {
   "cell_type": "code",
   "execution_count": 12,
   "id": "visible-national",
   "metadata": {},
   "outputs": [],
   "source": [
    "# Store the dimensions of the input dataset for setting up the model\n",
    "nJets, maxNumTrks, nFeatures = X_train.shape"
   ]
  },
  {
   "cell_type": "markdown",
   "id": "04171f16-cc36-42b7-9af9-356f4f0d8fb1",
   "metadata": {},
   "source": [
    "<img src=\"DIPS_architecture_tutorial.pdf\"\n",
    "     width=500\n",
    "     style=\"float: left; margin-right: 10px;\" />"
   ]
  },
  {
   "cell_type": "markdown",
   "id": "7b7b3c24-bda7-421f-b331-9bebcf04dc46",
   "metadata": {},
   "source": [
    "**TO DO:** Define the ppm_sizes_int and the dense_sizes_int vectors to implement the architecure above."
   ]
  },
  {
   "cell_type": "code",
   "execution_count": 13,
   "id": "bright-things",
   "metadata": {},
   "outputs": [],
   "source": [
    "'''\n",
    "TO DO: fill in this cell\n",
    "'''\n",
    "\n",
    "ppm_sizes_int = [50,50,32]\n",
    "dense_sizes_int = [50,50]"
   ]
  },
  {
   "cell_type": "code",
   "execution_count": 14,
   "id": "distant-classroom",
   "metadata": {},
   "outputs": [
    {
     "name": "stderr",
     "output_type": "stream",
     "text": [
      "2023-06-02 23:13:05.475432: W tensorflow/stream_executor/platform/default/dso_loader.cc:64] Could not load dynamic library 'libcuda.so.1'; dlerror: libcuda.so.1: cannot open shared object file: No such file or directory; LD_LIBRARY_PATH: /cvmfs/sft.cern.ch/lcg/releases/MCGenerators/thepeg/2.2.3-6cb32/x86_64-centos7-gcc11-opt/lib/ThePEG:/cvmfs/sft.cern.ch/lcg/releases/MCGenerators/herwig++/7.2.3-90caf/x86_64-centos7-gcc11-opt/lib/Herwig:/cvmfs/sft.cern.ch/lcg/views/LCG_102b_swan/x86_64-centos7-gcc11-opt/lib/python3.9/site-packages/jaxlib/mlir/_mlir_libs:/cvmfs/sft.cern.ch/lcg/views/LCG_102b_swan/x86_64-centos7-gcc11-opt/lib/python3.9/site-packages/torch/lib:/cvmfs/sft.cern.ch/lcg/views/LCG_102b_swan/x86_64-centos7-gcc11-opt/lib/python3.9/site-packages/onnxruntime/capi/:/cvmfs/sft.cern.ch/lcg/views/LCG_102b_swan/x86_64-centos7-gcc11-opt/lib/python3.9/site-packages/tensorflow:/cvmfs/sft.cern.ch/lcg/views/LCG_102b_swan/x86_64-centos7-gcc11-opt/lib/python3.9/site-packages/tensorflow/contrib/tensor_forest:/cvmfs/sft.cern.ch/lcg/views/LCG_102b_swan/x86_64-centos7-gcc11-opt/lib/python3.9/site-packages/tensorflow/python/framework:/cvmfs/sft.cern.ch/lcg/releases/java/11.0.14p1-8284a/x86_64-centos7-gcc11-opt/jre/lib/amd64:/cvmfs/sft.cern.ch/lcg/views/LCG_102b_swan/x86_64-centos7-gcc11-opt/lib64:/cvmfs/sft.cern.ch/lcg/views/LCG_102b_swan/x86_64-centos7-gcc11-opt/lib:/cvmfs/sft.cern.ch/lcg/releases/gcc/11.3.0-ad0f5/x86_64-centos7/lib:/cvmfs/sft.cern.ch/lcg/releases/gcc/11.3.0-ad0f5/x86_64-centos7/lib64:/cvmfs/sft.cern.ch/lcg/releases/binutils/2.37-355ed/x86_64-centos7/lib:/usr/local/lib/:/cvmfs/sft.cern.ch/lcg/releases/R/4.1.2-f1888/x86_64-centos7-gcc11-opt/lib64/R/library/readr/rcon\n",
      "2023-06-02 23:13:05.475504: W tensorflow/stream_executor/cuda/cuda_driver.cc:269] failed call to cuInit: UNKNOWN ERROR (303)\n",
      "2023-06-02 23:13:05.475724: I tensorflow/stream_executor/cuda/cuda_diagnostics.cc:163] no NVIDIA GPU device is present: /dev/nvidia0 does not exist\n",
      "2023-06-02 23:13:05.476697: I tensorflow/core/platform/cpu_feature_guard.cc:151] This TensorFlow binary is optimized with oneAPI Deep Neural Network Library (oneDNN) to use the following CPU instructions in performance-critical operations:  AVX2 AVX512F FMA\n",
      "To enable them in other operations, rebuild TensorFlow with the appropriate compiler flags.\n"
     ]
    }
   ],
   "source": [
    "trk_inputs = Input(shape=(maxNumTrks,nFeatures),name='Input')\n",
    "masked_inputs = Masking(mask_value=0,name='Mask')(trk_inputs)\n",
    "tdd = masked_inputs\n",
    "\n",
    "for i, phi_nodes in enumerate(ppm_sizes_int):\n",
    "\n",
    "    tdd = TimeDistributed(Dense(phi_nodes,activation='linear'),name=f\"Phi{i}_Dense\")(tdd)\n",
    "    tdd = TimeDistributed(ReLU(),name=f\"Phi{i}_ReLU\")(tdd)\n",
    "\n",
    "# This is where the magic happens... sum up the track features!\n",
    "F = Sum(name=\"Sum\")(tdd)\n",
    "\n",
    "for j, F_nodes in enumerate(dense_sizes_int):\n",
    "\n",
    "    F = Dense(F_nodes, activation='linear', name=f\"F{j}_Dense\")(F)\n",
    "    F = ReLU(name=f\"F{j}_ReLU\")(F)\n",
    "\n",
    "output = Dense(nClasses, activation='softmax',name=\"Jet_class\")(F)\n",
    "dips = Model(inputs=trk_inputs, outputs=output)"
   ]
  },
  {
   "cell_type": "code",
   "execution_count": 15,
   "id": "ab3c927d-f4fa-4292-8389-4835c44fa808",
   "metadata": {},
   "outputs": [
    {
     "name": "stdout",
     "output_type": "stream",
     "text": [
      "Input True\n",
      "Mask True\n",
      "Phi0_Dense True\n",
      "Phi0_ReLU True\n",
      "Phi1_Dense True\n",
      "Phi1_ReLU True\n",
      "Phi2_Dense True\n",
      "Phi2_ReLU True\n",
      "Sum True\n",
      "F0_Dense True\n",
      "F0_ReLU True\n",
      "F1_Dense True\n",
      "F1_ReLU True\n",
      "Jet_class True\n"
     ]
    }
   ],
   "source": [
    "for l in dips.layers:\n",
    "    print(l.name, l.supports_masking)"
   ]
  },
  {
   "cell_type": "markdown",
   "id": "removed-logistics",
   "metadata": {},
   "source": [
    "As a sanitry check, you can check the structure of the model."
   ]
  },
  {
   "cell_type": "code",
   "execution_count": 16,
   "id": "hairy-racing",
   "metadata": {},
   "outputs": [
    {
     "name": "stdout",
     "output_type": "stream",
     "text": [
      "Model: \"model\"\n",
      "_________________________________________________________________\n",
      " Layer (type)                Output Shape              Param #   \n",
      "=================================================================\n",
      " Input (InputLayer)          [(None, 40, 8)]           0         \n",
      "                                                                 \n",
      " Mask (Masking)              (None, 40, 8)             0         \n",
      "                                                                 \n",
      " Phi0_Dense (TimeDistributed  (None, 40, 50)           450       \n",
      " )                                                               \n",
      "                                                                 \n",
      " Phi0_ReLU (TimeDistributed)  (None, 40, 50)           0         \n",
      "                                                                 \n",
      " Phi1_Dense (TimeDistributed  (None, 40, 50)           2550      \n",
      " )                                                               \n",
      "                                                                 \n",
      " Phi1_ReLU (TimeDistributed)  (None, 40, 50)           0         \n",
      "                                                                 \n",
      " Phi2_Dense (TimeDistributed  (None, 40, 32)           1632      \n",
      " )                                                               \n",
      "                                                                 \n",
      " Phi2_ReLU (TimeDistributed)  (None, 40, 32)           0         \n",
      "                                                                 \n",
      " Sum (Sum)                   (None, 32)                0         \n",
      "                                                                 \n",
      " F0_Dense (Dense)            (None, 50)                1650      \n",
      "                                                                 \n",
      " F0_ReLU (ReLU)              (None, 50)                0         \n",
      "                                                                 \n",
      " F1_Dense (Dense)            (None, 50)                2550      \n",
      "                                                                 \n",
      " F1_ReLU (ReLU)              (None, 50)                0         \n",
      "                                                                 \n",
      " Jet_class (Dense)           (None, 3)                 153       \n",
      "                                                                 \n",
      "=================================================================\n",
      "Total params: 8,985\n",
      "Trainable params: 8,985\n",
      "Non-trainable params: 0\n",
      "_________________________________________________________________\n"
     ]
    }
   ],
   "source": [
    "dips.summary() "
   ]
  },
  {
   "cell_type": "markdown",
   "id": "opened-source",
   "metadata": {},
   "source": [
    "To train the model, you need to define what you mean by a model performing better or worse, which we quantify by a loss function. For multi-class classification, we use the categorical cross-entropy, which maximizes the node corresponding to the true label of the jet.You also need a strategy for updating the weights as you minimize the loss, which is inside the optimizer. There are many different optimization strategies on the market and available in Keras, but the optimizer adam is often a good one to start with since it provides a way to decrease the weight update as you converge onto a solution.This is what is done in the \"compile\" function below."
   ]
  },
  {
   "cell_type": "code",
   "execution_count": 17,
   "id": "everyday-absence",
   "metadata": {},
   "outputs": [],
   "source": [
    "opt = keras.optimizers.Adam(learning_rate=0.0001)\n",
    "\n",
    "dips.compile(loss='categorical_crossentropy', optimizer='adam',\n",
    "             metrics=['acc'])  "
   ]
  },
  {
   "cell_type": "markdown",
   "id": "assigned-municipality",
   "metadata": {},
   "source": [
    "**Warm up Q:** _Before training_ the model, what do you think the accuracy will be?\n",
    "\n",
    "\n",
    "- A.   0% \n",
    "- B.   33%\n",
    "- C.   50%\n",
    "- D.   100%"
   ]
  },
  {
   "cell_type": "markdown",
   "id": "liable-thousand",
   "metadata": {},
   "source": [
    "**Test your answer above:** "
   ]
  },
  {
   "cell_type": "code",
   "execution_count": 18,
   "id": "welsh-village",
   "metadata": {},
   "outputs": [
    {
     "name": "stdout",
     "output_type": "stream",
     "text": [
      "8/8 [==============================] - 1s 6ms/step - loss: 5222.1973 - acc: 0.3791\n"
     ]
    },
    {
     "data": {
      "text/plain": [
       "[5222.197265625, 0.3790575861930847]"
      ]
     },
     "execution_count": 18,
     "metadata": {},
     "output_type": "execute_result"
    }
   ],
   "source": [
    "dips.evaluate(X_train,y_train_cat,batch_size=128)"
   ]
  },
  {
   "cell_type": "markdown",
   "id": "superior-shore",
   "metadata": {},
   "source": [
    "The second number above is the accuracy, which is close to 1/3, since before training the model is just guessing among the three outputs.The first number is the loss, which gets minimized in the training."
   ]
  },
  {
   "cell_type": "markdown",
   "id": "passive-yacht",
   "metadata": {},
   "source": [
    "**Training details**\n",
    "\n",
    "When training a model, how do you decide how long to go for? When training NNs, you look at your training dataset multiple times as you converge to a solution. A single pass over the training dataset is called an epoch.\n",
    "\n",
    "The model nEpochs is set at 7 right now and is a variable for the maximimum number of epochs, but in practice, it's common to set this value to something larger, and use the loss on a separate validation dataset to decide when to stop training. This is set up in the EarlyStopping callback which says to stop training when the loss on the validation dataset (val_loss) has not improved in 10 epochs.\n",
    "\n",
    "Then the ModelCheckpoint below saves the name for the model weights file you're using."
   ]
  },
  {
   "cell_type": "code",
   "execution_count": 19,
   "id": "ahead-clerk",
   "metadata": {},
   "outputs": [],
   "source": [
    "nEpochs = 100\n",
    "\n",
    "earlyStop = EarlyStopping(monitor='val_loss', verbose=True, patience=10)\n",
    "\n",
    "dips_mChkPt = ModelCheckpoint('dips_weights.h5',\n",
    "                              monitor='val_loss', \n",
    "                              verbose=True,\n",
    "                              save_best_only=True,\n",
    "                              save_weights_only=True)"
   ]
  },
  {
   "cell_type": "code",
   "execution_count": 20,
   "id": "trying-billy",
   "metadata": {},
   "outputs": [
    {
     "name": "stdout",
     "output_type": "stream",
     "text": [
      "Epoch 1/100\n",
      "1/6 [====>.........................] - ETA: 6s - loss: 5575.2500 - acc: 0.3828\n",
      "Epoch 1: val_loss improved from inf to 332.28506, saving model to dips_weights.h5\n",
      "6/6 [==============================] - 2s 69ms/step - loss: 2340.1099 - acc: 0.4280 - val_loss: 332.2851 - val_acc: 0.4817\n",
      "Epoch 2/100\n",
      "1/6 [====>.........................] - ETA: 0s - loss: 168.1262 - acc: 0.5625\n",
      "Epoch 2: val_loss improved from 332.28506 to 327.31787, saving model to dips_weights.h5\n",
      "6/6 [==============================] - 0s 24ms/step - loss: 644.4141 - acc: 0.4725 - val_loss: 327.3179 - val_acc: 0.5550\n",
      "Epoch 3/100\n",
      "1/6 [====>.........................] - ETA: 0s - loss: 553.6637 - acc: 0.5703\n",
      "Epoch 3: val_loss improved from 327.31787 to 192.15919, saving model to dips_weights.h5\n",
      "6/6 [==============================] - 0s 23ms/step - loss: 332.5081 - acc: 0.5131 - val_loss: 192.1592 - val_acc: 0.4398\n",
      "Epoch 4/100\n",
      "1/6 [====>.........................] - ETA: 0s - loss: 235.4822 - acc: 0.5078\n",
      "Epoch 4: val_loss improved from 192.15919 to 150.05156, saving model to dips_weights.h5\n",
      "6/6 [==============================] - 0s 29ms/step - loss: 212.4712 - acc: 0.4411 - val_loss: 150.0516 - val_acc: 0.5445\n",
      "Epoch 5/100\n",
      "1/6 [====>.........................] - ETA: 0s - loss: 168.7674 - acc: 0.5781\n",
      "Epoch 5: val_loss improved from 150.05156 to 91.67184, saving model to dips_weights.h5\n",
      "6/6 [==============================] - 0s 23ms/step - loss: 243.6502 - acc: 0.5157 - val_loss: 91.6718 - val_acc: 0.5026\n",
      "Epoch 6/100\n",
      "1/6 [====>.........................] - ETA: 0s - loss: 199.9493 - acc: 0.5156\n",
      "Epoch 6: val_loss did not improve from 91.67184\n",
      "6/6 [==============================] - 0s 15ms/step - loss: 155.4184 - acc: 0.4372 - val_loss: 99.7916 - val_acc: 0.4450\n",
      "Epoch 7/100\n",
      "1/6 [====>.........................] - ETA: 0s - loss: 124.3754 - acc: 0.5234\n",
      "Epoch 7: val_loss did not improve from 91.67184\n",
      "6/6 [==============================] - 0s 14ms/step - loss: 162.4772 - acc: 0.4319 - val_loss: 259.7905 - val_acc: 0.4764\n",
      "Epoch 8/100\n",
      "1/6 [====>.........................] - ETA: 0s - loss: 204.5101 - acc: 0.5547\n",
      "Epoch 8: val_loss improved from 91.67184 to 88.62811, saving model to dips_weights.h5\n",
      "6/6 [==============================] - 0s 23ms/step - loss: 231.9458 - acc: 0.4869 - val_loss: 88.6281 - val_acc: 0.4660\n",
      "Epoch 9/100\n",
      "1/6 [====>.........................] - ETA: 0s - loss: 235.6864 - acc: 0.4062\n",
      "Epoch 9: val_loss did not improve from 88.62811\n",
      "6/6 [==============================] - 0s 19ms/step - loss: 243.9453 - acc: 0.5249 - val_loss: 145.5356 - val_acc: 0.4293\n",
      "Epoch 10/100\n",
      "1/6 [====>.........................] - ETA: 0s - loss: 227.0353 - acc: 0.3984\n",
      "Epoch 10: val_loss did not improve from 88.62811\n",
      "6/6 [==============================] - 0s 15ms/step - loss: 242.0436 - acc: 0.4215 - val_loss: 337.4002 - val_acc: 0.5026\n",
      "Epoch 11/100\n",
      "1/6 [====>.........................] - ETA: 0s - loss: 406.2858 - acc: 0.5469\n",
      "Epoch 11: val_loss did not improve from 88.62811\n",
      "6/6 [==============================] - 0s 15ms/step - loss: 292.9503 - acc: 0.4568 - val_loss: 219.3537 - val_acc: 0.4660\n",
      "Epoch 12/100\n",
      "1/6 [====>.........................] - ETA: 0s - loss: 214.8867 - acc: 0.5234\n",
      "Epoch 12: val_loss did not improve from 88.62811\n",
      "6/6 [==============================] - 0s 14ms/step - loss: 218.2969 - acc: 0.4921 - val_loss: 193.3909 - val_acc: 0.4241\n",
      "Epoch 13/100\n",
      "1/6 [====>.........................] - ETA: 0s - loss: 240.0671 - acc: 0.4297\n",
      "Epoch 13: val_loss did not improve from 88.62811\n",
      "6/6 [==============================] - 0s 15ms/step - loss: 201.7641 - acc: 0.4725 - val_loss: 100.9665 - val_acc: 0.4293\n",
      "Epoch 14/100\n",
      "1/6 [====>.........................] - ETA: 0s - loss: 153.8873 - acc: 0.4375\n",
      "Epoch 14: val_loss did not improve from 88.62811\n",
      "6/6 [==============================] - 0s 16ms/step - loss: 136.7867 - acc: 0.5393 - val_loss: 127.7225 - val_acc: 0.4607\n",
      "Epoch 15/100\n",
      "1/6 [====>.........................] - ETA: 0s - loss: 199.1978 - acc: 0.3828\n",
      "Epoch 15: val_loss did not improve from 88.62811\n",
      "6/6 [==============================] - 0s 15ms/step - loss: 142.2140 - acc: 0.4555 - val_loss: 167.7478 - val_acc: 0.5864\n",
      "Epoch 16/100\n",
      "1/6 [====>.........................] - ETA: 0s - loss: 213.3399 - acc: 0.5781\n",
      "Epoch 16: val_loss did not improve from 88.62811\n",
      "6/6 [==============================] - 0s 16ms/step - loss: 143.0016 - acc: 0.5183 - val_loss: 100.8190 - val_acc: 0.4031\n",
      "Epoch 17/100\n",
      "1/6 [====>.........................] - ETA: 0s - loss: 111.4728 - acc: 0.3281\n",
      "Epoch 17: val_loss did not improve from 88.62811\n",
      "6/6 [==============================] - 0s 14ms/step - loss: 154.2820 - acc: 0.4581 - val_loss: 123.6056 - val_acc: 0.5340\n",
      "Epoch 18/100\n",
      "1/6 [====>.........................] - ETA: 0s - loss: 170.2368 - acc: 0.5547\n",
      "Epoch 18: val_loss did not improve from 88.62811\n",
      "6/6 [==============================] - 0s 14ms/step - loss: 121.1765 - acc: 0.4660 - val_loss: 100.2090 - val_acc: 0.5707\n",
      "Epoch 18: early stopping\n"
     ]
    }
   ],
   "source": [
    "dips_hist = dips.fit(X_train, y_train_cat, epochs=nEpochs, \n",
    "                     batch_size=128,validation_split=0.2,\n",
    "                     callbacks=[earlyStop, dips_mChkPt])"
   ]
  },
  {
   "cell_type": "markdown",
   "id": "06d773b3-b575-4cef-8e22-b977dfd7d27c",
   "metadata": {},
   "source": [
    "Let's look at the training curve!"
   ]
  },
  {
   "cell_type": "code",
   "execution_count": 21,
   "id": "obvious-seafood",
   "metadata": {},
   "outputs": [
    {
     "data": {
      "image/png": "[encoded data removed]",
      "text/plain": [
       "<Figure size 432x288 with 1 Axes>"
      ]
     },
     "metadata": {
      "needs_background": "light"
     },
     "output_type": "display_data"
    }
   ],
   "source": [
    "epochs = np.arange(1,len(dips_hist.history['loss'])+1)\n",
    "\n",
    "plt.plot(epochs,dips_hist.history['loss'],color='hotpink',label='training')\n",
    "plt.plot(epochs,dips_hist.history['val_loss'],color='hotpink',label='validation',ls='--')\n",
    "plt.xlabel('epochs',fontsize=14)\n",
    "plt.ylabel('cross-entropy loss',fontsize=14)\n",
    "plt.legend()\n",
    "plt.title('DIPS')\n",
    "\n",
    "plt.show()"
   ]
  },
  {
   "cell_type": "markdown",
   "id": "3c9a8ee0-d172-42fb-a3a1-122da2a5304d",
   "metadata": {},
   "source": [
    "Since only 1k jets are being used in the training rn, the model might be overfitting for these hyperparameters."
   ]
  },
  {
   "cell_type": "markdown",
   "id": "commercial-microphone",
   "metadata": {},
   "source": [
    "**Evaluate the results with a roc curve**\n",
    "\n",
    "For this multiclass output problem, we'll combine the three class probabilities into a single discriminant.\n",
    "\n",
    "$$D_b = \\log \\frac{p_b}{f_c \\cdot p_c + (1 - f_c) \\cdot p_l}$$\n",
    "\n",
    "where $f_c$ is the \"charm fraction\" which is a parameter we choose after training the network.\n",
    "\n",
    "For this tutorial we will set $f_c = 0.07$.\n"
   ]
  },
  {
   "cell_type": "markdown",
   "id": "07e56335-4585-46e5-8576-addbbade9f0a",
   "metadata": {},
   "source": [
    "**(Warm up) question:** Will a $b$-jet have high or low values of $D_b$?\n",
    "\n",
    "-> High values of $D_b$\n",
    "\n",
    "What about $c$ and $l$-jets?\n",
    "\n",
    "-> Low values of $D_b$"
   ]
  },
  {
   "cell_type": "markdown",
   "id": "39505fc3-181b-47f5-b2f7-97ed6e82a9ec",
   "metadata": {},
   "source": [
    "**Test your assumption** The code below does the roc curve calculation.\n",
    "\n",
    "TO DO: Fill in the discriminant calculation (the line below starting with)\n",
    "\n",
    "`disc = ...` "
   ]
  },
  {
   "cell_type": "code",
   "execution_count": 49,
   "id": "8be2cab1-4ff2-4424-aa39-03ce5148bd94",
   "metadata": {},
   "outputs": [],
   "source": [
    "def sigBkgEff(myModel, X_test, y_test, fc=0.07, title=''):\n",
    "    '''\n",
    "    Given a model, make the histograms of the model outputs to get the ROC curves.\n",
    "\n",
    "    Input:\n",
    "        myModel: A keras model\n",
    "        X_test: Model inputs of the test set\n",
    "        y_test: Truth labels for the test set\n",
    "        fc: The amount by which to weight the c-jet prob in the disc. The\n",
    "            default value of 0.07 corresponds to the fraction of c-jet bkg\n",
    "            in ttbar.\n",
    "\n",
    "    Output:\n",
    "        effs: A list with 3 entries for the l, c, and b effs\n",
    "    '''\n",
    "\n",
    "    # Evaluate the performance with the ROC curves!\n",
    "    predictions = myModel.predict(X_test,verbose=True)\n",
    "\n",
    "    '''\n",
    "    TO DO: Set up the discriminant function\n",
    "    '''\n",
    "    disc = np.log(np.divide(predictions[:,2], fc*predictions[:,1] + (1 - fc) * predictions[:,0]))\n",
    "    \n",
    "    # Define the min and max range for the distribution\n",
    "    real = (disc != -np.inf) & (disc != np.inf)\n",
    "    np.min(disc[real]),np.max(disc[real])\n",
    "    \n",
    "    discMin = np.min(disc[real])\n",
    "    discMax = np.max(disc[real])\n",
    "    print(\"Db discriminant range:\",discMin,discMax)\n",
    "    \n",
    "    # Reset the -inf and +inf to have ranges at the edge of the distribution\n",
    "    eps=1e-10\n",
    "    disc[disc == -np.inf] = discMin+eps\n",
    "    disc[disc ==  np.inf] = discMax-eps\n",
    "   \n",
    "    myRange=(discMin,discMax)\n",
    "    nBins = 200\n",
    "\n",
    "    effs = []\n",
    "    for i, flavor in zip([0,1,2], ['l','c','b']):\n",
    "\n",
    "        ix = (y_test == i)\n",
    "        \n",
    "        # Plot the discriminant output\n",
    "        # nEntries is just a sum of the weight of each bin in the histogram.\n",
    "        hi = plt.hist(disc[ix],nBins, myRange, alpha=0.5, density=True,\n",
    "                      label=f'{flavor}-jets', log=True)[0]\n",
    "        \n",
    "        # Since high Db scores correspond to more b-like jets, compute the cummulative density function\n",
    "        # from summing from high to low values, this is why we reverse the order of the bins in nEntries\n",
    "        # using the \"::-1\" numpy indexing.\n",
    "        eff = np.add.accumulate(hi[::-1]) / np.sum(hi)\n",
    "        effs.append(eff)\n",
    "\n",
    "    plt.title(title)\n",
    "    plt.legend()\n",
    "    plt.xlabel('$D = \\ln [ p_b / (f_c p_c + (1- f_c)p_l ) ]$',fontsize=14)\n",
    "    plt.ylabel('Normalized entries')\n",
    "        \n",
    "    return effs\n"
   ]
  },
  {
   "cell_type": "code",
   "execution_count": 55,
   "id": "986a143f-f8b5-4a15-b361-0fc30dd1bad4",
   "metadata": {},
   "outputs": [],
   "source": [
    "X_test = f['X_test'][:]\n",
    "y_test = f['y_test'][:]"
   ]
  },
  {
   "cell_type": "code",
   "execution_count": null,
   "id": "ed01d75a",
   "metadata": {},
   "outputs": [],
   "source": []
  },
  {
   "cell_type": "code",
   "execution_count": 59,
   "id": "organic-bibliography",
   "metadata": {},
   "outputs": [
    {
     "name": "stdout",
     "output_type": "stream",
     "text": [
      "79/79 [==============================] - 0s 3ms/step\n",
      "Db discriminant range: -87.110535 86.89606\n"
     ]
    },
    {
     "name": "stderr",
     "output_type": "stream",
     "text": [
      "/tmp/ipykernel_7268/2548379725.py:23: RuntimeWarning: divide by zero encountered in true_divide\n",
      "  disc = np.log(np.divide(predictions[:,2], fc*predictions[:,1] + (1 - fc) * predictions[:,0]))\n",
      "/tmp/ipykernel_7268/2548379725.py:23: RuntimeWarning: divide by zero encountered in log\n",
      "  disc = np.log(np.divide(predictions[:,2], fc*predictions[:,1] + (1 - fc) * predictions[:,0]))\n"
     ]
    },
    {
     "data": {
      "image/png": "[encoded data removed]",
      "text/plain": [
       "<Figure size 432x288 with 1 Axes>"
      ]
     },
     "metadata": {
      "needs_background": "light"
     },
     "output_type": "display_data"
    }
   ],
   "source": [
    "title = 'DIPS: $\\Phi$ ' + '-'.join([str(i) for i in ppm_sizes_int])\n",
    "title += ', F ' + '-'.join([str(i) for i in dense_sizes_int])\n",
    "\n",
    "leff, ceff, beff = sigBkgEff(dips, X_test, y_test, title=title)"
   ]
  },
  {
   "cell_type": "code",
   "execution_count": 61,
   "id": "emerging-ivory",
   "metadata": {},
   "outputs": [
    {
     "data": {
      "image/png": "[encoded data removed]",
      "text/plain": [
       "<Figure size 432x288 with 1 Axes>"
      ]
     },
     "metadata": {
      "needs_background": "light"
     },
     "output_type": "display_data"
    }
   ],
   "source": [
    "# l-rej\n",
    "plt.figure()\n",
    "plt.plot(beff, 1 / leff, color='hotpink', label='dips: l-rej')\n",
    "\n",
    "# c-rej\n",
    "plt.plot(beff, 1 / ceff, color='hotpink', linestyle='--', label='dips: c-rej')\n",
    "plt.xlabel('b efficiency')\n",
    "plt.ylabel('Background rejection')\n",
    "\n",
    "plt.legend()\n",
    "plt.yscale(\"log\")\n",
    "plt.xlim(0.6,1)\n",
    "# plt.ylim(0,int(2e3))\n",
    "\n",
    "plt.show()"
   ]
  },
  {
   "cell_type": "code",
   "execution_count": null,
   "id": "accessory-bracelet",
   "metadata": {},
   "outputs": [],
   "source": []
  },
  {
   "cell_type": "markdown",
   "id": "fifteen-temperature",
   "metadata": {},
   "source": [
    "**Step 3:** Test out other permutation invariant operations\n",
    "<a name=\"permOps\"></a>\n",
    "\n",
    "- max\n",
    "- mean\n",
    "\n",
    "**Hint(s):** \n",
    "- Use the Sum() layer above for inspiration\n",
    "- Try typing K. and press the tab completion to see what other functions are available"
   ]
  },
  {
   "cell_type": "code",
   "execution_count": 62,
   "id": "secondary-emergency",
   "metadata": {},
   "outputs": [],
   "source": [
    "'''\n",
    "Will be left blank for the students\n",
    "'''\n",
    "\n",
    "class Max(Layer):\n",
    "    def __init__(self, **kwargs):\n",
    "        super().__init__(**kwargs)\n",
    "        self.supports_masking = True\n",
    "\n",
    "    def build(self, input_shape):\n",
    "        pass\n",
    "\n",
    "    def call(self, x, mask=None):\n",
    "        if mask is not None:\n",
    "            x = x * K.cast(mask, K.dtype(x))[:,:,None]\n",
    "        return K.max(x, axis=1)\n",
    "\n",
    "    def compute_output_shape(self, input_shape):\n",
    "        return input_shape[0], input_shape[2]\n",
    "\n",
    "    def compute_mask(self, inputs, mask):\n",
    "        return None"
   ]
  },
  {
   "cell_type": "code",
   "execution_count": 63,
   "id": "round-display",
   "metadata": {},
   "outputs": [],
   "source": [
    "'''\n",
    "Will be left blank for the students\n",
    "'''\n",
    "\n",
    "class Mean(Layer):\n",
    "    def __init__(self, **kwargs):\n",
    "        super().__init__(**kwargs)\n",
    "        self.supports_masking = True\n",
    "\n",
    "    def build(self, input_shape):\n",
    "        pass\n",
    "\n",
    "    def call(self, x, mask=None):\n",
    "        if mask is not None:\n",
    "            x = x * K.cast(mask, K.dtype(x))[:,:,None]\n",
    "        return K.mean(x, axis=1)\n",
    "\n",
    "    def compute_output_shape(self, input_shape):\n",
    "        return input_shape[0], input_shape[2]\n",
    "\n",
    "    def compute_mask(self, inputs, mask):\n",
    "        return None"
   ]
  },
  {
   "cell_type": "markdown",
   "id": "bbf5dcc3-34b6-46ff-b36b-cf2b437bbe97",
   "metadata": {},
   "source": [
    "**Try training these models and see how they compare:**\n",
    "\n",
    "It's fine to use the same hyperparameters as above for the $\\Phi$ and $F$ networks to just compare the impact of the pooling operation."
   ]
  },
  {
   "cell_type": "code",
   "execution_count": 72,
   "id": "premier-administration",
   "metadata": {},
   "outputs": [],
   "source": [
    "trk_inputs = Input(shape=(maxNumTrks,nFeatures),name='Input')\n",
    "masked_inputs = Masking(mask_value=0)(trk_inputs)\n",
    "tdd = masked_inputs\n",
    "\n",
    "for i, phi_nodes in enumerate(ppm_sizes_int):\n",
    "\n",
    "    tdd = TimeDistributed(Dense(phi_nodes,activation='linear'),name=f\"Phi{i}_Dense\")(tdd)\n",
    "    tdd = TimeDistributed(ReLU(),name=f\"Phi{i}_ReLU\")(tdd)\n",
    "\n",
    "# This is where the magic happens... sum up the track features!\n",
    "F = Max(name=\"Max\")(tdd)\n",
    "\n",
    "for j, F_nodes in enumerate(dense_sizes_int):\n",
    "\n",
    "    F = Dense(F_nodes, activation='linear', name=f\"F{j}_Dense\")(F)\n",
    "    F = ReLU(name=f\"F{j}_ReLU\")(F)\n",
    "\n",
    "output = Dense(nClasses, activation='softmax',name=\"Jet_class\")(F)\n",
    "\n",
    "'''\n",
    "All but the last line here will be left blank for the students\n",
    "'''\n",
    "\n",
    "dips_max = Model(inputs=trk_inputs, outputs=output)"
   ]
  },
  {
   "cell_type": "code",
   "execution_count": 73,
   "id": "d78ceed0-757a-4f7d-a489-db6cb3575038",
   "metadata": {
    "scrolled": true
   },
   "outputs": [
    {
     "name": "stdout",
     "output_type": "stream",
     "text": [
      "Epoch 1/100\n",
      "27/30 [==========================>...] - ETA: 0s - loss: 2698.8303 - acc: 0.3212\n",
      "Epoch 1: val_loss did not improve from 6.86492\n",
      "30/30 [==============================] - 2s 21ms/step - loss: 2564.6482 - acc: 0.3226 - val_loss: 995.9360 - val_acc: 0.3312\n",
      "Epoch 2/100\n",
      "25/30 [========================>.....] - ETA: 0s - loss: 387.3573 - acc: 0.3519\n",
      "Epoch 2: val_loss did not improve from 6.86492\n",
      "30/30 [==============================] - 0s 11ms/step - loss: 343.4956 - acc: 0.3875 - val_loss: 91.4044 - val_acc: 0.5791\n",
      "Epoch 3/100\n",
      "28/30 [===========================>..] - ETA: 0s - loss: 46.4082 - acc: 0.4872\n",
      "Epoch 3: val_loss did not improve from 6.86492\n",
      "30/30 [==============================] - 0s 10ms/step - loss: 44.7508 - acc: 0.4875 - val_loss: 16.3094 - val_acc: 0.5770\n",
      "Epoch 4/100\n",
      "27/30 [==========================>...] - ETA: 0s - loss: 14.0889 - acc: 0.4688\n",
      "Epoch 4: val_loss improved from 6.86492 to 5.76495, saving model to dips_weights.h5\n",
      "30/30 [==============================] - 0s 14ms/step - loss: 13.3797 - acc: 0.4743 - val_loss: 5.7650 - val_acc: 0.3671\n",
      "Epoch 5/100\n",
      "27/30 [==========================>...] - ETA: 0s - loss: 6.1904 - acc: 0.4962\n",
      "Epoch 5: val_loss improved from 5.76495 to 4.96752, saving model to dips_weights.h5\n",
      "30/30 [==============================] - 0s 13ms/step - loss: 6.2209 - acc: 0.4898 - val_loss: 4.9675 - val_acc: 0.5580\n",
      "Epoch 6/100\n",
      "28/30 [===========================>..] - ETA: 0s - loss: 6.1061 - acc: 0.4958\n",
      "Epoch 6: val_loss did not improve from 4.96752\n",
      "30/30 [==============================] - 0s 10ms/step - loss: 5.9661 - acc: 0.4983 - val_loss: 5.9720 - val_acc: 0.3460\n",
      "Epoch 7/100\n",
      "27/30 [==========================>...] - ETA: 0s - loss: 7.5446 - acc: 0.4902\n",
      "Epoch 7: val_loss improved from 4.96752 to 4.78543, saving model to dips_weights.h5\n",
      "30/30 [==============================] - 0s 12ms/step - loss: 7.7552 - acc: 0.4988 - val_loss: 4.7854 - val_acc: 0.3534\n",
      "Epoch 8/100\n",
      "27/30 [==========================>...] - ETA: 0s - loss: 7.3633 - acc: 0.5061\n",
      "Epoch 8: val_loss did not improve from 4.78543\n",
      "30/30 [==============================] - 0s 11ms/step - loss: 7.2040 - acc: 0.5044 - val_loss: 6.6657 - val_acc: 0.6255\n",
      "Epoch 9/100\n",
      "27/30 [==========================>...] - ETA: 0s - loss: 5.5144 - acc: 0.4951\n",
      "Epoch 9: val_loss did not improve from 4.78543\n",
      "30/30 [==============================] - 0s 10ms/step - loss: 5.9610 - acc: 0.5009 - val_loss: 7.7108 - val_acc: 0.3914\n",
      "Epoch 10/100\n",
      "26/30 [=========================>....] - ETA: 0s - loss: 6.8795 - acc: 0.4973\n",
      "Epoch 10: val_loss improved from 4.78543 to 2.95447, saving model to dips_weights.h5\n",
      "30/30 [==============================] - 0s 12ms/step - loss: 6.5343 - acc: 0.5004 - val_loss: 2.9545 - val_acc: 0.3998\n",
      "Epoch 11/100\n",
      "28/30 [===========================>..] - ETA: 0s - loss: 4.4167 - acc: 0.5204\n",
      "Epoch 11: val_loss did not improve from 2.95447\n",
      "30/30 [==============================] - 0s 11ms/step - loss: 4.4301 - acc: 0.5239 - val_loss: 3.8022 - val_acc: 0.5580\n",
      "Epoch 12/100\n",
      "26/30 [=========================>....] - ETA: 0s - loss: 4.2050 - acc: 0.5219\n",
      "Epoch 12: val_loss did not improve from 2.95447\n",
      "30/30 [==============================] - 0s 10ms/step - loss: 4.4642 - acc: 0.5276 - val_loss: 8.0904 - val_acc: 0.3787\n",
      "Epoch 13/100\n",
      "28/30 [===========================>..] - ETA: 0s - loss: 7.9882 - acc: 0.4994\n",
      "Epoch 13: val_loss did not improve from 2.95447\n",
      "30/30 [==============================] - 0s 10ms/step - loss: 7.8695 - acc: 0.5033 - val_loss: 5.0022 - val_acc: 0.5928\n",
      "Epoch 14/100\n",
      "28/30 [===========================>..] - ETA: 0s - loss: 7.1409 - acc: 0.5128\n",
      "Epoch 14: val_loss did not improve from 2.95447\n",
      "30/30 [==============================] - 0s 10ms/step - loss: 7.1488 - acc: 0.5104 - val_loss: 13.4824 - val_acc: 0.2542\n",
      "Epoch 15/100\n",
      "29/30 [============================>.] - ETA: 0s - loss: 5.8582 - acc: 0.5213\n",
      "Epoch 15: val_loss did not improve from 2.95447\n",
      "30/30 [==============================] - 0s 10ms/step - loss: 5.7785 - acc: 0.5239 - val_loss: 3.5993 - val_acc: 0.5886\n",
      "Epoch 16/100\n",
      "28/30 [===========================>..] - ETA: 0s - loss: 4.4855 - acc: 0.5594\n",
      "Epoch 16: val_loss did not improve from 2.95447\n",
      "30/30 [==============================] - 0s 10ms/step - loss: 4.6904 - acc: 0.5603 - val_loss: 3.4676 - val_acc: 0.5232\n",
      "Epoch 17/100\n",
      "29/30 [============================>.] - ETA: 0s - loss: 4.4307 - acc: 0.5345\n",
      "Epoch 17: val_loss did not improve from 2.95447\n",
      "30/30 [==============================] - 0s 10ms/step - loss: 4.4969 - acc: 0.5352 - val_loss: 3.7947 - val_acc: 0.6013\n",
      "Epoch 18/100\n",
      "29/30 [============================>.] - ETA: 0s - loss: 4.8383 - acc: 0.5426\n",
      "Epoch 18: val_loss did not improve from 2.95447\n",
      "30/30 [==============================] - 0s 10ms/step - loss: 4.8426 - acc: 0.5460 - val_loss: 7.1006 - val_acc: 0.6245\n",
      "Epoch 19/100\n",
      "28/30 [===========================>..] - ETA: 0s - loss: 8.2505 - acc: 0.5318\n",
      "Epoch 19: val_loss did not improve from 2.95447\n",
      "30/30 [==============================] - 0s 10ms/step - loss: 8.3654 - acc: 0.5379 - val_loss: 6.2869 - val_acc: 0.4494\n",
      "Epoch 20/100\n",
      "27/30 [==========================>...] - ETA: 0s - loss: 6.2367 - acc: 0.5075\n",
      "Epoch 20: val_loss did not improve from 2.95447\n",
      "30/30 [==============================] - 0s 10ms/step - loss: 6.3142 - acc: 0.5194 - val_loss: 3.6027 - val_acc: 0.5675\n",
      "Epoch 20: early stopping\n"
     ]
    }
   ],
   "source": [
    "opt = keras.optimizers.Adam(learning_rate=0.0001)\n",
    "\n",
    "dips_max.compile(loss='categorical_crossentropy', optimizer=opt,\n",
    "                 metrics=['acc'])  \n",
    "\n",
    "dips_hist_max = dips_max.fit(X_train, y_train_cat, epochs=nEpochs, \n",
    "                         batch_size=128,validation_split=0.2,\n",
    "                         callbacks=[earlyStop, dips_mChkPt])"
   ]
  },
  {
   "cell_type": "code",
   "execution_count": 74,
   "id": "648b09e3-9571-4a28-becb-ecd5fbe7826d",
   "metadata": {},
   "outputs": [],
   "source": [
    "trk_inputs = Input(shape=(maxNumTrks,nFeatures),name='Input')\n",
    "masked_inputs = Masking(mask_value=0)(trk_inputs)\n",
    "tdd = masked_inputs\n",
    "\n",
    "for i, phi_nodes in enumerate(ppm_sizes_int):\n",
    "\n",
    "    tdd = TimeDistributed(Dense(phi_nodes,activation='linear'),name=f\"Phi{i}_Dense\")(tdd)\n",
    "    tdd = TimeDistributed(ReLU(),name=f\"Phi{i}_ReLU\")(tdd)\n",
    "\n",
    "# This is where the magic happens... sum up the track features!\n",
    "F = Mean(name=\"Mean\")(tdd)\n",
    "\n",
    "for j, F_nodes in enumerate(dense_sizes_int):\n",
    "\n",
    "    F = Dense(F_nodes, activation='linear', name=f\"F{j}_Dense\")(F)\n",
    "    F = ReLU(name=f\"F{j}_ReLU\")(F)\n",
    "\n",
    "output = Dense(nClasses, activation='softmax',name=\"Jet_class\")(F)\n",
    "\n",
    "'''\n",
    "All but the last line here will be left blank for the students\n",
    "'''\n",
    "\n",
    "dips_mean = Model(inputs=trk_inputs, outputs=output)"
   ]
  },
  {
   "cell_type": "code",
   "execution_count": 75,
   "id": "15438184-26b8-4ad7-927f-c14a7ef5b861",
   "metadata": {},
   "outputs": [
    {
     "name": "stdout",
     "output_type": "stream",
     "text": [
      "Epoch 1/100\n",
      "28/30 [===========================>..] - ETA: 0s - loss: 269.5942 - acc: 0.3323\n",
      "Epoch 1: val_loss did not improve from 2.95447\n",
      "30/30 [==============================] - 2s 21ms/step - loss: 264.6492 - acc: 0.3347 - val_loss: 140.9984 - val_acc: 0.3892\n",
      "Epoch 2/100\n",
      "27/30 [==========================>...] - ETA: 0s - loss: 107.8596 - acc: 0.3900\n",
      "Epoch 2: val_loss did not improve from 2.95447\n",
      "30/30 [==============================] - 0s 10ms/step - loss: 101.4134 - acc: 0.3980 - val_loss: 27.6659 - val_acc: 0.4863\n",
      "Epoch 3/100\n",
      "27/30 [==========================>...] - ETA: 0s - loss: 19.7468 - acc: 0.4913\n",
      "Epoch 3: val_loss did not improve from 2.95447\n",
      "30/30 [==============================] - 0s 10ms/step - loss: 19.5649 - acc: 0.4885 - val_loss: 9.3093 - val_acc: 0.4810\n",
      "Epoch 4/100\n",
      "27/30 [==========================>...] - ETA: 0s - loss: 10.4356 - acc: 0.4884\n",
      "Epoch 4: val_loss did not improve from 2.95447\n",
      "30/30 [==============================] - 0s 10ms/step - loss: 9.9076 - acc: 0.4912 - val_loss: 5.0060 - val_acc: 0.5190\n",
      "Epoch 5/100\n",
      "27/30 [==========================>...] - ETA: 0s - loss: 5.9069 - acc: 0.5084\n",
      "Epoch 5: val_loss did not improve from 2.95447\n",
      "30/30 [==============================] - 0s 10ms/step - loss: 5.8649 - acc: 0.5086 - val_loss: 3.3945 - val_acc: 0.5390\n",
      "Epoch 6/100\n",
      "29/30 [============================>.] - ETA: 0s - loss: 3.7057 - acc: 0.5092\n",
      "Epoch 6: val_loss improved from 2.95447 to 2.21444, saving model to dips_weights.h5\n",
      "30/30 [==============================] - 0s 15ms/step - loss: 3.7273 - acc: 0.5086 - val_loss: 2.2144 - val_acc: 0.4705\n",
      "Epoch 7/100\n",
      "28/30 [===========================>..] - ETA: 0s - loss: 2.2903 - acc: 0.5000\n",
      "Epoch 7: val_loss improved from 2.21444 to 1.44343, saving model to dips_weights.h5\n",
      "30/30 [==============================] - 0s 12ms/step - loss: 2.2829 - acc: 0.4975 - val_loss: 1.4434 - val_acc: 0.5190\n",
      "Epoch 8/100\n",
      "29/30 [============================>.] - ETA: 0s - loss: 1.4664 - acc: 0.5210\n",
      "Epoch 8: val_loss improved from 1.44343 to 1.28689, saving model to dips_weights.h5\n",
      "30/30 [==============================] - 0s 11ms/step - loss: 1.4682 - acc: 0.5218 - val_loss: 1.2869 - val_acc: 0.5116\n",
      "Epoch 9/100\n",
      "29/30 [============================>.] - ETA: 0s - loss: 1.2422 - acc: 0.5676\n",
      "Epoch 9: val_loss improved from 1.28689 to 1.23223, saving model to dips_weights.h5\n",
      "30/30 [==============================] - 0s 12ms/step - loss: 1.2419 - acc: 0.5661 - val_loss: 1.2322 - val_acc: 0.4568\n",
      "Epoch 10/100\n",
      "28/30 [===========================>..] - ETA: 0s - loss: 1.2984 - acc: 0.5631\n",
      "Epoch 10: val_loss improved from 1.23223 to 1.02553, saving model to dips_weights.h5\n",
      "30/30 [==============================] - 0s 11ms/step - loss: 1.2974 - acc: 0.5700 - val_loss: 1.0255 - val_acc: 0.6435\n",
      "Epoch 11/100\n",
      "29/30 [============================>.] - ETA: 0s - loss: 1.2302 - acc: 0.5959\n",
      "Epoch 11: val_loss improved from 1.02553 to 0.97322, saving model to dips_weights.h5\n",
      "30/30 [==============================] - 0s 12ms/step - loss: 1.2310 - acc: 0.5980 - val_loss: 0.9732 - val_acc: 0.6044\n",
      "Epoch 12/100\n",
      "28/30 [===========================>..] - ETA: 0s - loss: 1.1146 - acc: 0.6177\n",
      "Epoch 12: val_loss did not improve from 0.97322\n",
      "30/30 [==============================] - 0s 10ms/step - loss: 1.1226 - acc: 0.6180 - val_loss: 0.9811 - val_acc: 0.6076\n",
      "Epoch 13/100\n",
      "28/30 [===========================>..] - ETA: 0s - loss: 1.1324 - acc: 0.6032\n",
      "Epoch 13: val_loss did not improve from 0.97322\n",
      "30/30 [==============================] - 0s 10ms/step - loss: 1.1222 - acc: 0.6109 - val_loss: 1.0536 - val_acc: 0.6572\n",
      "Epoch 14/100\n",
      "27/30 [==========================>...] - ETA: 0s - loss: 1.0714 - acc: 0.6479\n",
      "Epoch 14: val_loss did not improve from 0.97322\n",
      "30/30 [==============================] - 0s 11ms/step - loss: 1.0995 - acc: 0.6463 - val_loss: 1.1143 - val_acc: 0.5654\n",
      "Epoch 15/100\n",
      "28/30 [===========================>..] - ETA: 0s - loss: 1.2667 - acc: 0.6242\n",
      "Epoch 15: val_loss did not improve from 0.97322\n",
      "30/30 [==============================] - 0s 10ms/step - loss: 1.2676 - acc: 0.6260 - val_loss: 1.2554 - val_acc: 0.6508\n",
      "Epoch 16/100\n",
      "28/30 [===========================>..] - ETA: 0s - loss: 1.0815 - acc: 0.6621\n",
      "Epoch 16: val_loss did not improve from 0.97322\n",
      "30/30 [==============================] - 0s 11ms/step - loss: 1.0919 - acc: 0.6568 - val_loss: 1.3299 - val_acc: 0.5844\n",
      "Epoch 17/100\n",
      "28/30 [===========================>..] - ETA: 0s - loss: 1.0784 - acc: 0.6730\n",
      "Epoch 17: val_loss improved from 0.97322 to 0.92692, saving model to dips_weights.h5\n",
      "30/30 [==============================] - 0s 12ms/step - loss: 1.0623 - acc: 0.6758 - val_loss: 0.9269 - val_acc: 0.6804\n",
      "Epoch 18/100\n",
      "29/30 [============================>.] - ETA: 0s - loss: 1.0553 - acc: 0.6627\n",
      "Epoch 18: val_loss did not improve from 0.92692\n",
      "30/30 [==============================] - 0s 10ms/step - loss: 1.0584 - acc: 0.6626 - val_loss: 1.1298 - val_acc: 0.5759\n",
      "Epoch 19/100\n",
      "28/30 [===========================>..] - ETA: 0s - loss: 1.1059 - acc: 0.6585\n",
      "Epoch 19: val_loss did not improve from 0.92692\n",
      "30/30 [==============================] - 0s 10ms/step - loss: 1.1183 - acc: 0.6494 - val_loss: 1.0145 - val_acc: 0.5696\n",
      "Epoch 20/100\n",
      "28/30 [===========================>..] - ETA: 0s - loss: 1.0269 - acc: 0.6749\n",
      "Epoch 20: val_loss did not improve from 0.92692\n",
      "30/30 [==============================] - 0s 10ms/step - loss: 1.0337 - acc: 0.6742 - val_loss: 1.0924 - val_acc: 0.7025\n",
      "Epoch 21/100\n",
      "27/30 [==========================>...] - ETA: 0s - loss: 1.0665 - acc: 0.6707\n",
      "Epoch 21: val_loss did not improve from 0.92692\n",
      "30/30 [==============================] - 0s 10ms/step - loss: 1.0634 - acc: 0.6729 - val_loss: 1.0939 - val_acc: 0.6772\n",
      "Epoch 22/100\n",
      "27/30 [==========================>...] - ETA: 0s - loss: 1.0214 - acc: 0.6794\n",
      "Epoch 22: val_loss did not improve from 0.92692\n",
      "30/30 [==============================] - 0s 10ms/step - loss: 1.0280 - acc: 0.6755 - val_loss: 0.9687 - val_acc: 0.6793\n",
      "Epoch 23/100\n",
      "27/30 [==========================>...] - ETA: 0s - loss: 1.0048 - acc: 0.6861\n",
      "Epoch 23: val_loss improved from 0.92692 to 0.87484, saving model to dips_weights.h5\n",
      "30/30 [==============================] - 0s 12ms/step - loss: 0.9974 - acc: 0.6864 - val_loss: 0.8748 - val_acc: 0.7257\n",
      "Epoch 24/100\n",
      "27/30 [==========================>...] - ETA: 0s - loss: 0.9858 - acc: 0.7014\n",
      "Epoch 24: val_loss did not improve from 0.87484\n",
      "30/30 [==============================] - 0s 10ms/step - loss: 0.9802 - acc: 0.7011 - val_loss: 0.9774 - val_acc: 0.6329\n",
      "Epoch 25/100\n",
      "28/30 [===========================>..] - ETA: 0s - loss: 1.0062 - acc: 0.6917\n",
      "Epoch 25: val_loss did not improve from 0.87484\n",
      "30/30 [==============================] - 0s 10ms/step - loss: 1.0083 - acc: 0.6893 - val_loss: 1.2583 - val_acc: 0.5253\n",
      "Epoch 26/100\n",
      "29/30 [============================>.] - ETA: 0s - loss: 1.1180 - acc: 0.6805\n",
      "Epoch 26: val_loss did not improve from 0.87484\n",
      "30/30 [==============================] - 0s 10ms/step - loss: 1.1239 - acc: 0.6806 - val_loss: 0.9927 - val_acc: 0.6424\n",
      "Epoch 27/100\n",
      "26/30 [=========================>....] - ETA: 0s - loss: 1.0382 - acc: 0.6896\n",
      "Epoch 27: val_loss did not improve from 0.87484\n",
      "30/30 [==============================] - 0s 11ms/step - loss: 1.0737 - acc: 0.6908 - val_loss: 0.9043 - val_acc: 0.6899\n",
      "Epoch 28/100\n",
      "26/30 [=========================>....] - ETA: 0s - loss: 0.9676 - acc: 0.7028\n",
      "Epoch 28: val_loss improved from 0.87484 to 0.87325, saving model to dips_weights.h5\n",
      "30/30 [==============================] - 0s 12ms/step - loss: 0.9708 - acc: 0.6948 - val_loss: 0.8733 - val_acc: 0.7205\n",
      "Epoch 29/100\n",
      "29/30 [============================>.] - ETA: 0s - loss: 0.9919 - acc: 0.7085\n",
      "Epoch 29: val_loss did not improve from 0.87325\n",
      "30/30 [==============================] - 0s 10ms/step - loss: 0.9931 - acc: 0.7085 - val_loss: 0.8847 - val_acc: 0.6603\n",
      "Epoch 30/100\n",
      "28/30 [===========================>..] - ETA: 0s - loss: 0.9580 - acc: 0.6967\n",
      "Epoch 30: val_loss did not improve from 0.87325\n",
      "30/30 [==============================] - 0s 10ms/step - loss: 0.9612 - acc: 0.6988 - val_loss: 0.9405 - val_acc: 0.7173\n",
      "Epoch 31/100\n",
      "30/30 [==============================] - ETA: 0s - loss: 0.9210 - acc: 0.7117\n",
      "Epoch 31: val_loss did not improve from 0.87325\n"
     ]
    },
    {
     "name": "stdout",
     "output_type": "stream",
     "text": [
      "30/30 [==============================] - 0s 10ms/step - loss: 0.9210 - acc: 0.7117 - val_loss: 0.9005 - val_acc: 0.6572\n",
      "Epoch 32/100\n",
      "28/30 [===========================>..] - ETA: 0s - loss: 0.9355 - acc: 0.7065\n",
      "Epoch 32: val_loss did not improve from 0.87325\n",
      "30/30 [==============================] - 0s 10ms/step - loss: 0.9652 - acc: 0.6993 - val_loss: 1.4843 - val_acc: 0.5717\n",
      "Epoch 33/100\n",
      "24/30 [=======================>......] - ETA: 0s - loss: 1.3448 - acc: 0.6533\n",
      "Epoch 33: val_loss did not improve from 0.87325\n",
      "30/30 [==============================] - 0s 10ms/step - loss: 1.3373 - acc: 0.6463 - val_loss: 1.8147 - val_acc: 0.6709\n",
      "Epoch 34/100\n",
      "28/30 [===========================>..] - ETA: 0s - loss: 1.1783 - acc: 0.6861\n",
      "Epoch 34: val_loss did not improve from 0.87325\n",
      "30/30 [==============================] - 0s 10ms/step - loss: 1.1711 - acc: 0.6811 - val_loss: 0.9740 - val_acc: 0.6118\n",
      "Epoch 35/100\n",
      "29/30 [============================>.] - ETA: 0s - loss: 1.1250 - acc: 0.6762\n",
      "Epoch 35: val_loss did not improve from 0.87325\n",
      "30/30 [==============================] - 0s 10ms/step - loss: 1.1221 - acc: 0.6750 - val_loss: 0.9604 - val_acc: 0.6867\n",
      "Epoch 36/100\n",
      "27/30 [==========================>...] - ETA: 0s - loss: 0.9162 - acc: 0.7138\n",
      "Epoch 36: val_loss did not improve from 0.87325\n",
      "30/30 [==============================] - 0s 10ms/step - loss: 0.9226 - acc: 0.7114 - val_loss: 1.1350 - val_acc: 0.6857\n",
      "Epoch 37/100\n",
      "28/30 [===========================>..] - ETA: 0s - loss: 1.0451 - acc: 0.6825\n",
      "Epoch 37: val_loss did not improve from 0.87325\n",
      "30/30 [==============================] - 0s 10ms/step - loss: 1.0534 - acc: 0.6840 - val_loss: 0.9046 - val_acc: 0.7025\n",
      "Epoch 38/100\n",
      "27/30 [==========================>...] - ETA: 0s - loss: 1.0454 - acc: 0.6814\n",
      "Epoch 38: val_loss improved from 0.87325 to 0.85698, saving model to dips_weights.h5\n",
      "30/30 [==============================] - 0s 11ms/step - loss: 1.0732 - acc: 0.6850 - val_loss: 0.8570 - val_acc: 0.7278\n",
      "Epoch 39/100\n",
      "28/30 [===========================>..] - ETA: 0s - loss: 0.9612 - acc: 0.6970\n",
      "Epoch 39: val_loss did not improve from 0.85698\n",
      "30/30 [==============================] - 0s 10ms/step - loss: 0.9610 - acc: 0.6972 - val_loss: 0.8928 - val_acc: 0.6677\n",
      "Epoch 40/100\n",
      "28/30 [===========================>..] - ETA: 0s - loss: 0.9977 - acc: 0.7012\n",
      "Epoch 40: val_loss did not improve from 0.85698\n",
      "30/30 [==============================] - 0s 10ms/step - loss: 0.9880 - acc: 0.7046 - val_loss: 1.0375 - val_acc: 0.6814\n",
      "Epoch 41/100\n",
      "28/30 [===========================>..] - ETA: 0s - loss: 1.0623 - acc: 0.6925\n",
      "Epoch 41: val_loss did not improve from 0.85698\n",
      "30/30 [==============================] - 0s 10ms/step - loss: 1.0435 - acc: 0.6959 - val_loss: 0.9065 - val_acc: 0.7226\n",
      "Epoch 42/100\n",
      "29/30 [============================>.] - ETA: 0s - loss: 0.9994 - acc: 0.7091\n",
      "Epoch 42: val_loss did not improve from 0.85698\n",
      "30/30 [==============================] - 0s 10ms/step - loss: 1.0023 - acc: 0.7088 - val_loss: 0.9760 - val_acc: 0.6846\n",
      "Epoch 43/100\n",
      "28/30 [===========================>..] - ETA: 0s - loss: 0.9462 - acc: 0.7062\n",
      "Epoch 43: val_loss improved from 0.85698 to 0.81848, saving model to dips_weights.h5\n",
      "30/30 [==============================] - 1s 30ms/step - loss: 0.9545 - acc: 0.7067 - val_loss: 0.8185 - val_acc: 0.7300\n",
      "Epoch 44/100\n",
      "28/30 [===========================>..] - ETA: 0s - loss: 0.8800 - acc: 0.7201\n",
      "Epoch 44: val_loss improved from 0.81848 to 0.79675, saving model to dips_weights.h5\n",
      "30/30 [==============================] - 0s 11ms/step - loss: 0.8806 - acc: 0.7201 - val_loss: 0.7967 - val_acc: 0.7384\n",
      "Epoch 45/100\n",
      "28/30 [===========================>..] - ETA: 0s - loss: 0.8370 - acc: 0.7344\n",
      "Epoch 45: val_loss did not improve from 0.79675\n",
      "30/30 [==============================] - 0s 10ms/step - loss: 0.8320 - acc: 0.7365 - val_loss: 0.8029 - val_acc: 0.7321\n",
      "Epoch 46/100\n",
      "28/30 [===========================>..] - ETA: 0s - loss: 1.0254 - acc: 0.6869\n",
      "Epoch 46: val_loss did not improve from 0.79675\n",
      "30/30 [==============================] - 0s 10ms/step - loss: 1.0612 - acc: 0.6866 - val_loss: 1.6523 - val_acc: 0.6688\n",
      "Epoch 47/100\n",
      "28/30 [===========================>..] - ETA: 0s - loss: 1.3785 - acc: 0.6465\n",
      "Epoch 47: val_loss did not improve from 0.79675\n",
      "30/30 [==============================] - 0s 10ms/step - loss: 1.3572 - acc: 0.6471 - val_loss: 1.0101 - val_acc: 0.7068\n",
      "Epoch 48/100\n",
      "23/30 [======================>.......] - ETA: 0s - loss: 1.0255 - acc: 0.6957\n",
      "Epoch 48: val_loss did not improve from 0.79675\n",
      "30/30 [==============================] - 0s 10ms/step - loss: 0.9782 - acc: 0.7069 - val_loss: 0.8719 - val_acc: 0.6846\n",
      "Epoch 49/100\n",
      "29/30 [============================>.] - ETA: 0s - loss: 0.9442 - acc: 0.6975\n",
      "Epoch 49: val_loss did not improve from 0.79675\n",
      "30/30 [==============================] - 0s 10ms/step - loss: 0.9472 - acc: 0.6966 - val_loss: 0.8352 - val_acc: 0.7236\n",
      "Epoch 50/100\n",
      "29/30 [============================>.] - ETA: 0s - loss: 0.9418 - acc: 0.7055\n",
      "Epoch 50: val_loss did not improve from 0.79675\n",
      "30/30 [==============================] - 0s 10ms/step - loss: 0.9475 - acc: 0.7040 - val_loss: 0.9475 - val_acc: 0.7099\n",
      "Epoch 51/100\n",
      "28/30 [===========================>..] - ETA: 0s - loss: 0.8985 - acc: 0.7185\n",
      "Epoch 51: val_loss did not improve from 0.79675\n",
      "30/30 [==============================] - 0s 11ms/step - loss: 0.8967 - acc: 0.7188 - val_loss: 0.9651 - val_acc: 0.6751\n",
      "Epoch 52/100\n",
      "26/30 [=========================>....] - ETA: 0s - loss: 1.0624 - acc: 0.6830\n",
      "Epoch 52: val_loss did not improve from 0.79675\n",
      "30/30 [==============================] - 0s 11ms/step - loss: 1.0463 - acc: 0.6861 - val_loss: 0.9257 - val_acc: 0.7131\n",
      "Epoch 53/100\n",
      "29/30 [============================>.] - ETA: 0s - loss: 0.9398 - acc: 0.7015\n",
      "Epoch 53: val_loss did not improve from 0.79675\n",
      "30/30 [==============================] - 0s 11ms/step - loss: 0.9390 - acc: 0.7027 - val_loss: 0.9172 - val_acc: 0.6962\n",
      "Epoch 54/100\n",
      "26/30 [=========================>....] - ETA: 0s - loss: 1.0425 - acc: 0.6884\n",
      "Epoch 54: val_loss did not improve from 0.79675\n",
      "30/30 [==============================] - 0s 10ms/step - loss: 1.0480 - acc: 0.6861 - val_loss: 1.3513 - val_acc: 0.6909\n",
      "Epoch 54: early stopping\n"
     ]
    }
   ],
   "source": [
    "opt = keras.optimizers.Adam(learning_rate=0.0001)\n",
    "\n",
    "dips_mean.compile(loss='categorical_crossentropy', optimizer=opt,\n",
    "                 metrics=['acc'])  \n",
    "\n",
    "dips_hist_mean = dips_mean.fit(X_train, y_train_cat, epochs=nEpochs, \n",
    "                     batch_size=128,validation_split=0.2,\n",
    "                     callbacks=[earlyStop, dips_mChkPt])"
   ]
  },
  {
   "cell_type": "markdown",
   "id": "55dd0aa6-8d6a-4c8d-991a-2a5bd5f1deb4",
   "metadata": {},
   "source": [
    "**Which of these 3 models is doing the best?** "
   ]
  },
  {
   "cell_type": "markdown",
   "id": "46f7f3fd-55aa-4c33-a6f6-ce0b08360b54",
   "metadata": {},
   "source": [
    "Initial check: Compare the loss curves."
   ]
  },
  {
   "cell_type": "code",
   "execution_count": 77,
   "id": "c3666096-f2c5-4443-8c81-d15a63203781",
   "metadata": {},
   "outputs": [
    {
     "data": {
      "image/png": "[encoded data removed]",
      "text/plain": [
       "<Figure size 432x288 with 1 Axes>"
      ]
     },
     "metadata": {
      "needs_background": "light"
     },
     "output_type": "display_data"
    }
   ],
   "source": [
    "for h,c,l in zip([dips_hist, dips_hist_max, dips_hist_mean],\n",
    "                 ['hotpink','C2','C1'],['Sum','Max','Mean']):\n",
    "\n",
    "    epochs = np.arange(1,len(h.history['loss'])+1)\n",
    "    \n",
    "    plt.plot(epochs,h.history['loss'],color=c,label=f'{l} : train')\n",
    "    plt.plot(epochs,h.history['val_loss'],color=c,label=f'{l} : val',ls='--')\n",
    "    \n",
    "plt.xlabel('epochs',fontsize=14)\n",
    "plt.ylabel('cross-entropy loss',fontsize=14)\n",
    "plt.legend()\n",
    "plt.title('DIPS: Different permutation operations')\n",
    "\n",
    "plt.show()"
   ]
  },
  {
   "cell_type": "markdown",
   "id": "a6278d68-ea98-43ec-9159-3aad7f364103",
   "metadata": {},
   "source": [
    "Next: compare the roc curves on the test set"
   ]
  },
  {
   "cell_type": "code",
   "execution_count": 78,
   "id": "f4389123-407a-484c-9962-792883f2f5f2",
   "metadata": {},
   "outputs": [
    {
     "name": "stdout",
     "output_type": "stream",
     "text": [
      "79/79 [==============================] - 0s 3ms/step\n",
      "Db discriminant range: -64.807434 85.67963\n"
     ]
    },
    {
     "name": "stderr",
     "output_type": "stream",
     "text": [
      "/tmp/ipykernel_7268/2548379725.py:23: RuntimeWarning: divide by zero encountered in true_divide\n",
      "  disc = np.log(np.divide(predictions[:,2], fc*predictions[:,1] + (1 - fc) * predictions[:,0]))\n"
     ]
    },
    {
     "data": {
      "image/png": "[encoded data removed]",
      "text/plain": [
       "<Figure size 432x288 with 1 Axes>"
      ]
     },
     "metadata": {
      "needs_background": "light"
     },
     "output_type": "display_data"
    }
   ],
   "source": [
    "leff_max, ceff_max, beff_max = sigBkgEff(dips_max, X_test, y_test, \n",
    "                                         title='Max pooling operation')"
   ]
  },
  {
   "cell_type": "code",
   "execution_count": 79,
   "id": "69c4c774-7345-4380-bf5a-6934a5f6af49",
   "metadata": {},
   "outputs": [
    {
     "name": "stdout",
     "output_type": "stream",
     "text": [
      "79/79 [==============================] - 0s 3ms/step\n",
      "Db discriminant range: -54.238068 31.93204\n"
     ]
    },
    {
     "data": {
      "image/png": "[encoded data removed]",
      "text/plain": [
       "<Figure size 432x288 with 1 Axes>"
      ]
     },
     "metadata": {
      "needs_background": "light"
     },
     "output_type": "display_data"
    }
   ],
   "source": [
    "leff_mean, ceff_mean, beff_mean = sigBkgEff(dips_mean, X_test, y_test, \n",
    "                                            title='Mean (avg) pooling operation')"
   ]
  },
  {
   "cell_type": "code",
   "execution_count": 80,
   "id": "2ae93fdb-0f9a-4a76-953a-8052b7dde29e",
   "metadata": {},
   "outputs": [
    {
     "name": "stderr",
     "output_type": "stream",
     "text": [
      "/tmp/ipykernel_7268/4292196905.py:7: RuntimeWarning: divide by zero encountered in true_divide\n",
      "  plt.plot(bi, 1 / li, color=c, label=f'{l}: l-rej')\n",
      "/tmp/ipykernel_7268/4292196905.py:7: RuntimeWarning: divide by zero encountered in true_divide\n",
      "  plt.plot(bi, 1 / li, color=c, label=f'{l}: l-rej')\n",
      "/tmp/ipykernel_7268/4292196905.py:10: RuntimeWarning: divide by zero encountered in true_divide\n",
      "  plt.plot(bi, 1 / ci, color=c, linestyle='--', label=f'{l}: c-rej')\n",
      "/tmp/ipykernel_7268/4292196905.py:18: UserWarning: Attempted to set non-positive bottom ylim on a log-scaled axis.\n",
      "Invalid limit will be ignored.\n",
      "  plt.ylim(0,int(2e3))\n"
     ]
    },
    {
     "data": {
      "image/png": "[encoded data removed]",
      "text/plain": [
       "<Figure size 432x288 with 1 Axes>"
      ]
     },
     "metadata": {
      "needs_background": "light"
     },
     "output_type": "display_data"
    }
   ],
   "source": [
    "plt.figure()\n",
    "\n",
    "for bi,li,ci,c, l in zip([beff,beff_max,beff_mean],[leff,leff_max,leff_mean],\n",
    "                         [ceff,ceff_max,ceff_mean],['hotpink','C2','C1'],['Sum','Max','Mean']):\n",
    "\n",
    "    # l-rej\n",
    "    plt.plot(bi, 1 / li, color=c, label=f'{l}: l-rej')\n",
    "\n",
    "    # c-rej\n",
    "    plt.plot(bi, 1 / ci, color=c, linestyle='--', label=f'{l}: c-rej')\n",
    "plt.xlabel('b efficiency')\n",
    "plt.ylabel('Background rejection')\n",
    "\n",
    "plt.legend()\n",
    "#plt.title(title)\n",
    "plt.yscale(\"log\")\n",
    "plt.xlim(0.6,1)\n",
    "plt.ylim(0,int(2e3))\n",
    "\n",
    "plt.show()"
   ]
  },
  {
   "cell_type": "code",
   "execution_count": null,
   "id": "78142c2f-5a4b-404a-875f-657ba29b4054",
   "metadata": {},
   "outputs": [],
   "source": []
  },
  {
   "cell_type": "markdown",
   "id": "df48150b-9be9-4f40-80eb-745c709114cc",
   "metadata": {},
   "source": [
    "**Q1:** Which is the least performant model?\n",
    "\n",
    "-> The Max pooling operation \n",
    "\n",
    "**Q2** Why might this model be doing not as good?\n",
    "\n",
    "-> By just taking the max over the features, we're loosing information from the features for many of the jets."
   ]
  },
  {
   "cell_type": "code",
   "execution_count": null,
   "id": "0b34554b-22a2-4df2-bc9b-91eecc420418",
   "metadata": {},
   "outputs": [],
   "source": [
    " "
   ]
  },
  {
   "cell_type": "markdown",
   "id": "7209c8b7-6a22-4464-bd62-c37efe4fa7d1",
   "metadata": {},
   "source": [
    "**Step 4:** Test out batch norm\n",
    "<a name=\"bn\"></a>\n",
    "\n",
    "[BatchNormalization](https://arxiv.org/abs/1502.03167) is a regularization tecnique for deep models. The key idea is that it's easier for models to train if the input are bell shaped and centered around 0 to take advantage of the non-linearity. This is why we normalize the inputs in the pre-processing, and the Batch-Normalization is a technique which normalizes the outputs from a network layer so that the next layer has nicely scaled inputs for the training. "
   ]
  },
  {
   "cell_type": "markdown",
   "id": "6c3c7665-4bc0-4bf2-b1e7-155cedcb366c",
   "metadata": {},
   "source": [
    "**Add batch norm to the model**"
   ]
  },
  {
   "cell_type": "code",
   "execution_count": 81,
   "id": "d19ba77b-0d0f-4cd9-8e6e-12a037fca052",
   "metadata": {},
   "outputs": [],
   "source": [
    "trk_inputs = Input(shape=(maxNumTrks,nFeatures),name='Input')\n",
    "masked_inputs = Masking(mask_value=0)(trk_inputs)\n",
    "tdd = masked_inputs\n",
    "\n",
    "for i, phi_nodes in enumerate(ppm_sizes_int):\n",
    "\n",
    "    tdd = TimeDistributed(Dense(phi_nodes,activation='linear'),name=f\"Phi{i}_Dense\")(tdd)\n",
    "\n",
    "    # Example - how to add batch norm to the Phi network\n",
    "    tdd = TimeDistributed(BatchNormalization(),name=f\"Phi{i}_BatchNormalization\")(tdd)\n",
    "    \n",
    "    tdd = TimeDistributed(ReLU(),name=f\"Phi{i}_ReLU\")(tdd)\n",
    "\n",
    "# This is where the magic happens... sum up the track features!\n",
    "F = Sum(name=\"Sum\")(tdd)\n",
    "\n",
    "for j, F_nodes in enumerate(dense_sizes_int):\n",
    "\n",
    "    F = Dense(F_nodes, activation='linear', name=f\"F{j}_Dense\")(F)\n",
    "    \n",
    "    '''\n",
    "    TO DO: Also add batch norm to the F dense network\n",
    "    '''\n",
    "    F = BatchNormalization(name=f\"F{j}_BatchNormalization\")(F)\n",
    "    #raise NotImplementedError\n",
    "    \n",
    "    F = ReLU(name=f\"F{j}_ReLU\")(F)\n",
    "\n",
    "output = Dense(nClasses, activation='softmax',name=\"Jet_class\")(F)\n",
    "dips_bn = Model(inputs=trk_inputs, outputs=output)"
   ]
  },
  {
   "cell_type": "markdown",
   "id": "62433c73-7969-4554-ae44-2f0e9473c6db",
   "metadata": {},
   "source": [
    "**Train the model**"
   ]
  },
  {
   "cell_type": "code",
   "execution_count": 82,
   "id": "53640911-fd89-4352-9332-af265804e9dd",
   "metadata": {},
   "outputs": [
    {
     "name": "stdout",
     "output_type": "stream",
     "text": [
      "Epoch 1/100\n",
      "28/30 [===========================>..] - ETA: 0s - loss: 0.8955 - acc: 0.6183\n",
      "Epoch 1: val_loss did not improve from 0.79675\n",
      "30/30 [==============================] - 3s 35ms/step - loss: 0.8914 - acc: 0.6196 - val_loss: 0.9977 - val_acc: 0.5876\n",
      "Epoch 2/100\n",
      "27/30 [==========================>...] - ETA: 0s - loss: 0.7574 - acc: 0.6939\n",
      "Epoch 2: val_loss did not improve from 0.79675\n",
      "30/30 [==============================] - 1s 20ms/step - loss: 0.7494 - acc: 0.7003 - val_loss: 1.0497 - val_acc: 0.5897\n",
      "Epoch 3/100\n",
      "30/30 [==============================] - ETA: 0s - loss: 0.7180 - acc: 0.7225\n",
      "Epoch 3: val_loss did not improve from 0.79675\n",
      "30/30 [==============================] - 1s 20ms/step - loss: 0.7180 - acc: 0.7225 - val_loss: 1.1125 - val_acc: 0.6013\n",
      "Epoch 4/100\n",
      "30/30 [==============================] - ETA: 0s - loss: 0.6817 - acc: 0.7420\n",
      "Epoch 4: val_loss did not improve from 0.79675\n",
      "30/30 [==============================] - 1s 20ms/step - loss: 0.6817 - acc: 0.7420 - val_loss: 0.9424 - val_acc: 0.6255\n",
      "Epoch 5/100\n",
      "28/30 [===========================>..] - ETA: 0s - loss: 0.6649 - acc: 0.7489\n",
      "Epoch 5: val_loss did not improve from 0.79675\n",
      "30/30 [==============================] - 1s 20ms/step - loss: 0.6672 - acc: 0.7486 - val_loss: 0.9005 - val_acc: 0.6624\n",
      "Epoch 6/100\n",
      "28/30 [===========================>..] - ETA: 0s - loss: 0.6752 - acc: 0.7455\n",
      "Epoch 6: val_loss did not improve from 0.79675\n",
      "30/30 [==============================] - 1s 20ms/step - loss: 0.6748 - acc: 0.7468 - val_loss: 0.8511 - val_acc: 0.6741\n",
      "Epoch 7/100\n",
      "29/30 [============================>.] - ETA: 0s - loss: 0.6547 - acc: 0.7594\n",
      "Epoch 7: val_loss improved from 0.79675 to 0.73306, saving model to dips_weights.h5\n",
      "30/30 [==============================] - 1s 26ms/step - loss: 0.6573 - acc: 0.7578 - val_loss: 0.7331 - val_acc: 0.7046\n",
      "Epoch 8/100\n",
      "28/30 [===========================>..] - ETA: 0s - loss: 0.6386 - acc: 0.7670\n",
      "Epoch 8: val_loss did not improve from 0.73306\n",
      "30/30 [==============================] - 1s 20ms/step - loss: 0.6444 - acc: 0.7634 - val_loss: 0.7628 - val_acc: 0.7173\n",
      "Epoch 9/100\n",
      "29/30 [============================>.] - ETA: 0s - loss: 0.6394 - acc: 0.7629\n",
      "Epoch 9: val_loss did not improve from 0.73306\n",
      "30/30 [==============================] - 1s 20ms/step - loss: 0.6386 - acc: 0.7631 - val_loss: 0.7533 - val_acc: 0.7120\n",
      "Epoch 10/100\n",
      "30/30 [==============================] - ETA: 0s - loss: 0.6433 - acc: 0.7681\n",
      "Epoch 10: val_loss did not improve from 0.73306\n",
      "30/30 [==============================] - 1s 20ms/step - loss: 0.6433 - acc: 0.7681 - val_loss: 0.7783 - val_acc: 0.6983\n",
      "Epoch 11/100\n",
      "28/30 [===========================>..] - ETA: 0s - loss: 0.6318 - acc: 0.7704\n",
      "Epoch 11: val_loss improved from 0.73306 to 0.70996, saving model to dips_weights.h5\n",
      "30/30 [==============================] - 1s 22ms/step - loss: 0.6330 - acc: 0.7687 - val_loss: 0.7100 - val_acc: 0.7257\n",
      "Epoch 12/100\n",
      "28/30 [===========================>..] - ETA: 0s - loss: 0.6508 - acc: 0.7620\n",
      "Epoch 12: val_loss did not improve from 0.70996\n",
      "30/30 [==============================] - 1s 20ms/step - loss: 0.6530 - acc: 0.7615 - val_loss: 0.7143 - val_acc: 0.7310\n",
      "Epoch 13/100\n",
      "30/30 [==============================] - ETA: 0s - loss: 0.6466 - acc: 0.7615\n",
      "Epoch 13: val_loss improved from 0.70996 to 0.68142, saving model to dips_weights.h5\n",
      "30/30 [==============================] - 1s 23ms/step - loss: 0.6466 - acc: 0.7615 - val_loss: 0.6814 - val_acc: 0.7416\n",
      "Epoch 14/100\n",
      "30/30 [==============================] - ETA: 0s - loss: 0.6424 - acc: 0.7652\n",
      "Epoch 14: val_loss did not improve from 0.68142\n",
      "30/30 [==============================] - 1s 19ms/step - loss: 0.6424 - acc: 0.7652 - val_loss: 0.7745 - val_acc: 0.6878\n",
      "Epoch 15/100\n",
      "29/30 [============================>.] - ETA: 0s - loss: 0.6359 - acc: 0.7670\n",
      "Epoch 15: val_loss did not improve from 0.68142\n",
      "30/30 [==============================] - 1s 19ms/step - loss: 0.6320 - acc: 0.7679 - val_loss: 0.7468 - val_acc: 0.7184\n",
      "Epoch 16/100\n",
      "29/30 [============================>.] - ETA: 0s - loss: 0.6203 - acc: 0.7726\n",
      "Epoch 16: val_loss did not improve from 0.68142\n",
      "30/30 [==============================] - 1s 19ms/step - loss: 0.6269 - acc: 0.7689 - val_loss: 0.7198 - val_acc: 0.7247\n",
      "Epoch 17/100\n",
      "27/30 [==========================>...] - ETA: 0s - loss: 0.6272 - acc: 0.7711\n",
      "Epoch 17: val_loss did not improve from 0.68142\n",
      "30/30 [==============================] - 1s 19ms/step - loss: 0.6296 - acc: 0.7689 - val_loss: 0.6903 - val_acc: 0.7384\n",
      "Epoch 18/100\n",
      "30/30 [==============================] - ETA: 0s - loss: 0.6296 - acc: 0.7676\n",
      "Epoch 18: val_loss did not improve from 0.68142\n",
      "30/30 [==============================] - 1s 19ms/step - loss: 0.6296 - acc: 0.7676 - val_loss: 0.7976 - val_acc: 0.7046\n",
      "Epoch 19/100\n",
      "28/30 [===========================>..] - ETA: 0s - loss: 0.6309 - acc: 0.7712\n",
      "Epoch 19: val_loss did not improve from 0.68142\n",
      "30/30 [==============================] - 1s 19ms/step - loss: 0.6267 - acc: 0.7729 - val_loss: 0.7282 - val_acc: 0.7289\n",
      "Epoch 20/100\n",
      "30/30 [==============================] - ETA: 0s - loss: 0.6251 - acc: 0.7658\n",
      "Epoch 20: val_loss improved from 0.68142 to 0.67156, saving model to dips_weights.h5\n",
      "30/30 [==============================] - 1s 22ms/step - loss: 0.6251 - acc: 0.7658 - val_loss: 0.6716 - val_acc: 0.7458\n",
      "Epoch 21/100\n",
      "27/30 [==========================>...] - ETA: 0s - loss: 0.6184 - acc: 0.7731\n",
      "Epoch 21: val_loss did not improve from 0.67156\n",
      "30/30 [==============================] - 1s 19ms/step - loss: 0.6255 - acc: 0.7702 - val_loss: 0.7278 - val_acc: 0.7236\n",
      "Epoch 22/100\n",
      "29/30 [============================>.] - ETA: 0s - loss: 0.6297 - acc: 0.7683\n",
      "Epoch 22: val_loss did not improve from 0.67156\n",
      "30/30 [==============================] - 1s 19ms/step - loss: 0.6282 - acc: 0.7689 - val_loss: 0.6830 - val_acc: 0.7542\n",
      "Epoch 23/100\n",
      "27/30 [==========================>...] - ETA: 0s - loss: 0.6267 - acc: 0.7648\n",
      "Epoch 23: val_loss did not improve from 0.67156\n",
      "30/30 [==============================] - 1s 19ms/step - loss: 0.6306 - acc: 0.7631 - val_loss: 0.7024 - val_acc: 0.7500\n",
      "Epoch 24/100\n",
      "29/30 [============================>.] - ETA: 0s - loss: 0.6286 - acc: 0.7680\n",
      "Epoch 24: val_loss did not improve from 0.67156\n",
      "30/30 [==============================] - 1s 19ms/step - loss: 0.6261 - acc: 0.7692 - val_loss: 0.6927 - val_acc: 0.7416\n",
      "Epoch 25/100\n",
      "29/30 [============================>.] - ETA: 0s - loss: 0.6189 - acc: 0.7748\n",
      "Epoch 25: val_loss did not improve from 0.67156\n",
      "30/30 [==============================] - 1s 20ms/step - loss: 0.6191 - acc: 0.7739 - val_loss: 0.7039 - val_acc: 0.7152\n",
      "Epoch 26/100\n",
      "29/30 [============================>.] - ETA: 0s - loss: 0.6209 - acc: 0.7691\n",
      "Epoch 26: val_loss did not improve from 0.67156\n",
      "30/30 [==============================] - 1s 19ms/step - loss: 0.6199 - acc: 0.7708 - val_loss: 0.7681 - val_acc: 0.7152\n",
      "Epoch 27/100\n",
      "29/30 [============================>.] - ETA: 0s - loss: 0.6143 - acc: 0.7729\n",
      "Epoch 27: val_loss improved from 0.67156 to 0.64956, saving model to dips_weights.h5\n",
      "30/30 [==============================] - 1s 21ms/step - loss: 0.6184 - acc: 0.7708 - val_loss: 0.6496 - val_acc: 0.7542\n",
      "Epoch 28/100\n",
      "29/30 [============================>.] - ETA: 0s - loss: 0.6118 - acc: 0.7710\n",
      "Epoch 28: val_loss did not improve from 0.64956\n",
      "30/30 [==============================] - 1s 20ms/step - loss: 0.6116 - acc: 0.7705 - val_loss: 0.6821 - val_acc: 0.7405\n",
      "Epoch 29/100\n",
      "29/30 [============================>.] - ETA: 0s - loss: 0.6062 - acc: 0.7753\n",
      "Epoch 29: val_loss did not improve from 0.64956\n",
      "30/30 [==============================] - 1s 21ms/step - loss: 0.6067 - acc: 0.7753 - val_loss: 0.6600 - val_acc: 0.7627\n",
      "Epoch 30/100\n",
      "28/30 [===========================>..] - ETA: 0s - loss: 0.6091 - acc: 0.7787\n",
      "Epoch 30: val_loss did not improve from 0.64956\n",
      "30/30 [==============================] - 1s 20ms/step - loss: 0.6134 - acc: 0.7763 - val_loss: 0.6617 - val_acc: 0.7595\n",
      "Epoch 31/100\n",
      "29/30 [============================>.] - ETA: 0s - loss: 0.6123 - acc: 0.7745\n",
      "Epoch 31: val_loss did not improve from 0.64956\n",
      "30/30 [==============================] - 1s 20ms/step - loss: 0.6127 - acc: 0.7750 - val_loss: 0.6802 - val_acc: 0.7363\n"
     ]
    },
    {
     "name": "stdout",
     "output_type": "stream",
     "text": [
      "Epoch 32/100\n",
      "29/30 [============================>.] - ETA: 0s - loss: 0.6140 - acc: 0.7764\n",
      "Epoch 32: val_loss did not improve from 0.64956\n",
      "30/30 [==============================] - 1s 20ms/step - loss: 0.6130 - acc: 0.7760 - val_loss: 0.7178 - val_acc: 0.7131\n",
      "Epoch 33/100\n",
      "28/30 [===========================>..] - ETA: 0s - loss: 0.6186 - acc: 0.7743\n",
      "Epoch 33: val_loss did not improve from 0.64956\n",
      "30/30 [==============================] - 1s 20ms/step - loss: 0.6148 - acc: 0.7763 - val_loss: 0.6953 - val_acc: 0.7447\n",
      "Epoch 34/100\n",
      "30/30 [==============================] - ETA: 0s - loss: 0.6117 - acc: 0.7721\n",
      "Epoch 34: val_loss did not improve from 0.64956\n",
      "30/30 [==============================] - 1s 20ms/step - loss: 0.6117 - acc: 0.7721 - val_loss: 0.6551 - val_acc: 0.7616\n",
      "Epoch 35/100\n",
      "29/30 [============================>.] - ETA: 0s - loss: 0.5965 - acc: 0.7829\n",
      "Epoch 35: val_loss did not improve from 0.64956\n",
      "30/30 [==============================] - 1s 20ms/step - loss: 0.6004 - acc: 0.7816 - val_loss: 0.6989 - val_acc: 0.7310\n",
      "Epoch 36/100\n",
      "30/30 [==============================] - ETA: 0s - loss: 0.6138 - acc: 0.7710\n",
      "Epoch 36: val_loss improved from 0.64956 to 0.64669, saving model to dips_weights.h5\n",
      "30/30 [==============================] - 1s 22ms/step - loss: 0.6138 - acc: 0.7710 - val_loss: 0.6467 - val_acc: 0.7521\n",
      "Epoch 37/100\n",
      "28/30 [===========================>..] - ETA: 0s - loss: 0.6015 - acc: 0.7773\n",
      "Epoch 37: val_loss did not improve from 0.64669\n",
      "30/30 [==============================] - 1s 20ms/step - loss: 0.6027 - acc: 0.7776 - val_loss: 0.6573 - val_acc: 0.7521\n",
      "Epoch 38/100\n",
      "29/30 [============================>.] - ETA: 0s - loss: 0.6130 - acc: 0.7737\n",
      "Epoch 38: val_loss did not improve from 0.64669\n",
      "30/30 [==============================] - 1s 19ms/step - loss: 0.6145 - acc: 0.7726 - val_loss: 0.6727 - val_acc: 0.7500\n",
      "Epoch 39/100\n",
      "28/30 [===========================>..] - ETA: 0s - loss: 0.6111 - acc: 0.7790\n",
      "Epoch 39: val_loss did not improve from 0.64669\n",
      "30/30 [==============================] - 1s 20ms/step - loss: 0.6095 - acc: 0.7803 - val_loss: 0.6538 - val_acc: 0.7553\n",
      "Epoch 40/100\n",
      "29/30 [============================>.] - ETA: 0s - loss: 0.5972 - acc: 0.7807\n",
      "Epoch 40: val_loss did not improve from 0.64669\n",
      "30/30 [==============================] - 1s 20ms/step - loss: 0.5988 - acc: 0.7797 - val_loss: 0.6800 - val_acc: 0.7395\n",
      "Epoch 41/100\n",
      "30/30 [==============================] - ETA: 0s - loss: 0.6046 - acc: 0.7737\n",
      "Epoch 41: val_loss did not improve from 0.64669\n",
      "30/30 [==============================] - 1s 20ms/step - loss: 0.6046 - acc: 0.7737 - val_loss: 0.6680 - val_acc: 0.7595\n",
      "Epoch 42/100\n",
      "30/30 [==============================] - ETA: 0s - loss: 0.5993 - acc: 0.7753\n",
      "Epoch 42: val_loss did not improve from 0.64669\n",
      "30/30 [==============================] - 1s 19ms/step - loss: 0.5993 - acc: 0.7753 - val_loss: 0.6793 - val_acc: 0.7342\n",
      "Epoch 43/100\n",
      "28/30 [===========================>..] - ETA: 0s - loss: 0.5943 - acc: 0.7824\n",
      "Epoch 43: val_loss did not improve from 0.64669\n",
      "30/30 [==============================] - 1s 19ms/step - loss: 0.5971 - acc: 0.7819 - val_loss: 0.6498 - val_acc: 0.7584\n",
      "Epoch 44/100\n",
      "29/30 [============================>.] - ETA: 0s - loss: 0.5971 - acc: 0.7831\n",
      "Epoch 44: val_loss did not improve from 0.64669\n",
      "30/30 [==============================] - 1s 19ms/step - loss: 0.5994 - acc: 0.7819 - val_loss: 0.6809 - val_acc: 0.7416\n",
      "Epoch 45/100\n",
      "27/30 [==========================>...] - ETA: 0s - loss: 0.5969 - acc: 0.7786\n",
      "Epoch 45: val_loss did not improve from 0.64669\n",
      "30/30 [==============================] - 1s 20ms/step - loss: 0.5957 - acc: 0.7784 - val_loss: 0.6784 - val_acc: 0.7395\n",
      "Epoch 46/100\n",
      "28/30 [===========================>..] - ETA: 0s - loss: 0.5964 - acc: 0.7804\n",
      "Epoch 46: val_loss did not improve from 0.64669\n",
      "30/30 [==============================] - 1s 19ms/step - loss: 0.5985 - acc: 0.7790 - val_loss: 0.6764 - val_acc: 0.7489\n",
      "Epoch 46: early stopping\n"
     ]
    }
   ],
   "source": [
    "dips_bn.compile(loss='categorical_crossentropy', optimizer='adam',\n",
    "                 metrics=['acc'])  \n",
    "\n",
    "dips_hist_bn = dips_bn.fit(X_train, y_train_cat, epochs=nEpochs, \n",
    "                         batch_size=128,validation_split=0.2,\n",
    "                         callbacks=[earlyStop, dips_mChkPt])"
   ]
  },
  {
   "cell_type": "markdown",
   "id": "845dc966-82e7-4568-9b8f-69a1a564152c",
   "metadata": {},
   "source": [
    "**Compare the training curves**"
   ]
  },
  {
   "cell_type": "code",
   "execution_count": 83,
   "id": "3ecbdc60-f2b7-48d5-8319-f413696c83cb",
   "metadata": {},
   "outputs": [
    {
     "data": {
      "image/png": "[encoded data removed]",
      "text/plain": [
       "<Figure size 432x288 with 1 Axes>"
      ]
     },
     "metadata": {
      "needs_background": "light"
     },
     "output_type": "display_data"
    }
   ],
   "source": [
    "for h,c,l in zip([dips_hist, dips_hist_bn],\n",
    "                 ['hotpink','navy'],['default','BatchNorm']):\n",
    "    \n",
    "    epochs = np.arange(1,len(h.history['loss'])+1)\n",
    "    \n",
    "    plt.plot(epochs,h.history['loss'],color=c,label=f'{l} : train')\n",
    "    plt.plot(epochs,h.history['val_loss'],color=c,label=f'{l} : val',ls='--')\n",
    "    \n",
    "plt.xlabel('epochs',fontsize=14)\n",
    "plt.ylabel('cross-entropy loss',fontsize=14)\n",
    "plt.legend()\n",
    "plt.title('DIPS: Impact of batch norm')\n",
    "\n",
    "plt.show()"
   ]
  },
  {
   "cell_type": "code",
   "execution_count": null,
   "id": "ef781bb5-c5cf-48b9-847f-5cb335b9f40e",
   "metadata": {},
   "outputs": [],
   "source": []
  },
  {
   "cell_type": "code",
   "execution_count": 84,
   "id": "fe3a738e-b514-47cb-b950-34bc678b88cb",
   "metadata": {},
   "outputs": [
    {
     "name": "stdout",
     "output_type": "stream",
     "text": [
      "79/79 [==============================] - 1s 3ms/step\n",
      "Db discriminant range: -15.554308 10.623341\n"
     ]
    },
    {
     "data": {
      "image/png": "[encoded data removed]",
      "text/plain": [
       "<Figure size 432x288 with 1 Axes>"
      ]
     },
     "metadata": {
      "needs_background": "light"
     },
     "output_type": "display_data"
    }
   ],
   "source": [
    "leff_bn, ceff_bn, beff_bn = sigBkgEff(dips_bn, X_test, y_test,  \n",
    "                                      title='Adding batch norm')"
   ]
  },
  {
   "cell_type": "code",
   "execution_count": 85,
   "id": "b334f971-eb5e-49a6-b606-65fa2718acd3",
   "metadata": {},
   "outputs": [],
   "source": [
    "from scipy.interpolate import pchip"
   ]
  },
  {
   "cell_type": "code",
   "execution_count": 86,
   "id": "83023098-7fd8-4fd9-b07b-449a804052ca",
   "metadata": {},
   "outputs": [
    {
     "name": "stderr",
     "output_type": "stream",
     "text": [
      "/tmp/ipykernel_7268/2044709358.py:8: RuntimeWarning: divide by zero encountered in true_divide\n",
      "  ax1.plot(bi, 1 / li, color=c, label=f'{l}: l-rej')\n",
      "/tmp/ipykernel_7268/2044709358.py:10: RuntimeWarning: divide by zero encountered in true_divide\n",
      "  ax1.plot(bi, 1 / ci, color=c, linestyle='--', label=f'{l}: c-rej')\n",
      "/tmp/ipykernel_7268/2044709358.py:38: UserWarning: Attempted to set non-positive bottom ylim on a log-scaled axis.\n",
      "Invalid limit will be ignored.\n",
      "  ax1.set_ylim(0,int(2e3))\n"
     ]
    },
    {
     "data": {
      "image/png": "[encoded data removed]",
      "text/plain": [
       "<Figure size 432x432 with 2 Axes>"
      ]
     },
     "metadata": {
      "needs_background": "light"
     },
     "output_type": "display_data"
    }
   ],
   "source": [
    "fig, (ax1,ax2) = plt.subplots(2,1,figsize=(6,6),sharex=True,\n",
    "                              gridspec_kw={'height_ratios':[2,1]})\n",
    "\n",
    "for bi,li,ci,c, l in zip([beff,beff_bn],[leff,leff_bn],[ceff,ceff_bn],\n",
    "                         ['hotpink','navy'],['default','BatchNorm']):\n",
    "\n",
    "    # l-rej\n",
    "    ax1.plot(bi, 1 / li, color=c, label=f'{l}: l-rej')\n",
    "    # c-rej\n",
    "    ax1.plot(bi, 1 / ci, color=c, linestyle='--', label=f'{l}: c-rej')\n",
    "    \n",
    "    \n",
    "# Also the ratio panel\n",
    "xx = np.linspace(0.6,1,101)\n",
    "\n",
    "dx = np.concatenate((np.ones(1),np.diff(beff)))\n",
    "dx_bn = np.concatenate((np.ones(1),np.diff(beff_bn)))\n",
    "\n",
    "# l-rej\n",
    "for bkg,bkg_bn, ls in zip([leff,ceff],[leff_bn,ceff_bn],['-','--']):\n",
    "    \n",
    "    m_num = (bkg_bn!=0) & (dx_bn>0)\n",
    "    m_den = (bkg!=0) & (dx>0)\n",
    "    \n",
    "    f_num = pchip(beff_bn[m_num], 1/bkg_bn[m_num]) \n",
    "    f_den = pchip(beff[m_den],    1/bkg[m_den]) \n",
    "\n",
    "    ax2.plot(xx, f_num(xx) / f_den(xx), ls=ls, color=c)\n",
    "    \n",
    "ax2.set_xlabel('b efficiency')\n",
    "ax1.set_ylabel('Background rejection')\n",
    "ax1.set_ylabel('Background rejection')\n",
    "\n",
    "ax1.legend()\n",
    "ax1.set_title(title)\n",
    "ax1.set_yscale(\"log\")\n",
    "ax1.set_xlim(0.6,1)\n",
    "ax1.set_ylim(0,int(2e3))\n",
    "\n",
    "plt.show()"
   ]
  },
  {
   "cell_type": "code",
   "execution_count": null,
   "id": "2efb704c-6917-47ad-b4c4-0fb7ba4e8231",
   "metadata": {},
   "outputs": [],
   "source": []
  },
  {
   "cell_type": "markdown",
   "id": "fa8f900f-bfe0-49e2-a804-e06d5c09f0e3",
   "metadata": {},
   "source": [
    "**Look at the activation functions**\n",
    "\n",
    "Let's start off by looking at the first layer of the $\\Phi$ network."
   ]
  },
  {
   "cell_type": "code",
   "execution_count": 87,
   "id": "408fd1f5-b97f-4e89-bf49-1b4c0909b7e3",
   "metadata": {},
   "outputs": [],
   "source": [
    "phi_i = 0\n",
    "\n",
    "ni = 10000"
   ]
  },
  {
   "cell_type": "code",
   "execution_count": 88,
   "id": "509bc17e-8e4c-47ab-ba91-0949b5cd9c9f",
   "metadata": {},
   "outputs": [],
   "source": [
    "func = K.function([dips.get_layer('Input').input], dips.get_layer(f'Phi{phi_i}_Dense').output)\n",
    "act = func([X_test[:ni]])  "
   ]
  },
  {
   "cell_type": "code",
   "execution_count": 89,
   "id": "2dca452b-35d4-4e8d-9f0c-a14daee394e6",
   "metadata": {},
   "outputs": [],
   "source": [
    "'''\n",
    "To do - fill in to get the activations from the batch norm trained network\n",
    "'''\n",
    "\n",
    "func = K.function([dips_bn.get_layer('Input').input], dips_bn.get_layer(f'Phi{phi_i}_Dense').output)\n",
    "bnIn = func([X_test[:ni]])  \n",
    "\n",
    "func = K.function([dips_bn.get_layer('Input').input], dips_bn.get_layer(f'Phi{phi_i}_BatchNormalization').output)\n",
    "bnOut = func([X_test[:ni]])  "
   ]
  },
  {
   "cell_type": "code",
   "execution_count": null,
   "id": "60fbfc98-aec8-4c4a-95a9-bbc2f6425488",
   "metadata": {},
   "outputs": [],
   "source": []
  },
  {
   "cell_type": "markdown",
   "id": "1a60567d-d41b-4c57-a760-5d85a3972e66",
   "metadata": {},
   "source": [
    "To avoid evaluating the activations that _don't_ have any tracks, need to define the track mask"
   ]
  },
  {
   "cell_type": "code",
   "execution_count": 90,
   "id": "0653ec2d-337f-4116-b8a1-9e2212b8b992",
   "metadata": {},
   "outputs": [],
   "source": [
    "tmask = ~np.all(X_test[:ni]==0, axis=-1) # False for a padded track"
   ]
  },
  {
   "cell_type": "code",
   "execution_count": 91,
   "id": "7087705a-e819-4ded-8dae-65241d4204f3",
   "metadata": {},
   "outputs": [
    {
     "data": {
      "text/plain": [
       "(2507, 40)"
      ]
     },
     "execution_count": 91,
     "metadata": {},
     "output_type": "execute_result"
    }
   ],
   "source": [
    "tmask.shape"
   ]
  },
  {
   "cell_type": "markdown",
   "id": "129a3a6e-8494-4726-8f75-bcc3bd6407ca",
   "metadata": {},
   "source": [
    "This track mask has shape (nJets, maxNumTrks)"
   ]
  },
  {
   "cell_type": "code",
   "execution_count": 92,
   "id": "c3f9846f-ca33-4931-9e4d-8444bff102b4",
   "metadata": {},
   "outputs": [
    {
     "data": {
      "text/plain": [
       "array([[ True,  True,  True,  True,  True,  True,  True,  True,  True,\n",
       "         True,  True,  True,  True,  True,  True,  True,  True,  True,\n",
       "         True,  True,  True,  True,  True,  True, False, False, False,\n",
       "        False, False, False, False, False, False, False, False, False,\n",
       "        False, False, False, False],\n",
       "       [ True,  True,  True,  True,  True,  True,  True,  True,  True,\n",
       "         True,  True,  True,  True,  True,  True,  True,  True,  True,\n",
       "         True,  True,  True,  True,  True,  True,  True,  True,  True,\n",
       "         True,  True,  True,  True, False, False, False, False, False,\n",
       "        False, False, False, False]])"
      ]
     },
     "execution_count": 92,
     "metadata": {},
     "output_type": "execute_result"
    }
   ],
   "source": [
    "tmask[:2]"
   ]
  },
  {
   "cell_type": "markdown",
   "id": "e6c5b653-9620-43b1-a3cc-57ff6d1615ab",
   "metadata": {},
   "source": [
    "And looking at the first two jets we can see:\n",
    "- The first jet has 6 tracks\n",
    "- The 2nd jet has 5 tracks"
   ]
  },
  {
   "cell_type": "code",
   "execution_count": 93,
   "id": "37dea649-5f43-4ad9-bb6d-488651b9c106",
   "metadata": {},
   "outputs": [],
   "source": [
    "from matplotlib import transforms\n",
    "\n",
    "def rainbow_text(x,y,ls,lc,yoffset=.75,ax=None,**kw):\n",
    "    '''\n",
    "    Take a list of strings ``ls`` and colors ``lc`` and place them next to each\n",
    "    other, with text ls[i] being shown in color lc[i].\n",
    "\n",
    "    This example shows how to do both vertical and horizontal text, and will\n",
    "    pass all keyword arguments to plt.text, so you can set the font size,\n",
    "    family, etc.\n",
    "    '''\n",
    "\n",
    "    if ax is None:\n",
    "        ax=plt.gca()\n",
    "\n",
    "    t = ax.transData\n",
    "    fig = plt.gcf()\n",
    "\n",
    "    #horizontal version\n",
    "    for s,c in zip(ls,lc):\n",
    "        text = plt.text(x,y,\" \"+s,color=c, transform=t, **kw)\n",
    "        text.draw(fig.canvas.get_renderer())\n",
    "        ex = text.get_window_extent()\n",
    "        t = transforms.offset_copy(text._transform, y=-yoffset*ex.height, units='dots')"
   ]
  },
  {
   "cell_type": "code",
   "execution_count": 94,
   "id": "a467ed21-6bb6-4feb-8944-c8748adf4932",
   "metadata": {},
   "outputs": [
    {
     "data": {
      "image/png": "[encoded data removed]",
      "text/plain": [
       "<Figure size 432x288 with 1 Axes>"
      ]
     },
     "metadata": {
      "needs_background": "light"
     },
     "output_type": "display_data"
    },
    {
     "data": {
      "image/png": "[encoded data removed]",
      "text/plain": [
       "<Figure size 432x288 with 1 Axes>"
      ]
     },
     "metadata": {
      "needs_background": "light"
     },
     "output_type": "display_data"
    },
    {
     "data": {
      "image/png": "[encoded data removed]",
      "text/plain": [
       "<Figure size 432x288 with 1 Axes>"
      ]
     },
     "metadata": {
      "needs_background": "light"
     },
     "output_type": "display_data"
    },
    {
     "data": {
      "image/png": "[encoded data removed]",
      "text/plain": [
       "<Figure size 432x288 with 1 Axes>"
      ]
     },
     "metadata": {
      "needs_background": "light"
     },
     "output_type": "display_data"
    },
    {
     "data": {
      "image/png": "[encoded data removed]",
      "text/plain": [
       "<Figure size 432x288 with 1 Axes>"
      ]
     },
     "metadata": {
      "needs_background": "light"
     },
     "output_type": "display_data"
    },
    {
     "data": {
      "image/png": "[encoded data removed]",
      "text/plain": [
       "<Figure size 432x288 with 1 Axes>"
      ]
     },
     "metadata": {
      "needs_background": "light"
     },
     "output_type": "display_data"
    }
   ],
   "source": [
    "for feat in range(6):\n",
    "\n",
    "    nbins=100\n",
    "    r=(-5,5)\n",
    "\n",
    "    plt.hist(act[:,:,feat][tmask],nbins,r,color='hotpink',lw=3,label='default (no batch norm)',histtype='step')\n",
    "    \n",
    "    plt.hist(bnIn[:,:,feat][tmask],nbins,r,color='skyblue',label='before batch norm layer')\n",
    "    plt.hist(bnOut[:,:,feat][tmask],nbins,r,color='navy',lw=3,\n",
    "             label='after batch norm layer',histtype='step')\n",
    "    \n",
    "    '''\n",
    "    Add text to the plot to track the mean + std\n",
    "    '''\n",
    "    lc = ['hotpink','skyblue','navy']\n",
    "    ls = []\n",
    "    for o in [act,bnIn,bnOut]:\n",
    "        oi = o[:,:,feat][tmask]\n",
    "    \n",
    "        ls.append(f'$\\mu$ = {oi.mean():.1f}, $\\sigma$ = {oi.std():.1f}')\n",
    "    \n",
    "    _, ymax = plt.ylim()\n",
    "    rainbow_text(-4.8,.98*ymax,ls,lc, ha='left',va='top',yoffset=1)\n",
    "    \n",
    "    plt.xlim(r)\n",
    "    plt.legend(loc='upper right')\n",
    "    plt.xlabel(f'Activations after layer {phi_i+1} of the $\\Phi$ network')\n",
    "    plt.ylabel('Entries')\n",
    "    plt.title(f'Hidden feature {feat}')\n",
    "    plt.show()"
   ]
  },
  {
   "cell_type": "markdown",
   "id": "b616e238-cc56-4d0b-a93c-77aa18353b22",
   "metadata": {},
   "source": [
    "**Also look at activations in the F network**"
   ]
  },
  {
   "cell_type": "markdown",
   "id": "9ac233a4-cc80-4d49-8c53-5dfcbaacee3e",
   "metadata": {},
   "source": [
    "Now that we have the branches for the (pieces) of the network setup - evaluate them to get the corresponding activations."
   ]
  },
  {
   "cell_type": "code",
   "execution_count": 95,
   "id": "d4924e67-990f-4dbe-89aa-7246c6e6ce07",
   "metadata": {},
   "outputs": [],
   "source": [
    "ni = 100000\n",
    "\n",
    "F_j = 0"
   ]
  },
  {
   "cell_type": "code",
   "execution_count": 96,
   "id": "e903cc95-f63a-4510-9373-a3efac114d7b",
   "metadata": {},
   "outputs": [],
   "source": [
    "func = K.function([dips.get_layer('Input').input], dips.get_layer(f'F{F_j}_Dense').output)\n",
    "act = func([X_test[:ni]])  "
   ]
  },
  {
   "cell_type": "code",
   "execution_count": 97,
   "id": "1fc98f46-16cb-4954-bb8a-12e1d3d7e65f",
   "metadata": {},
   "outputs": [],
   "source": [
    "'''\n",
    "TO DO - fill in to get the activations fro the batch norm network\n",
    "'''\n",
    "\n",
    "func = K.function([dips_bn.get_layer('Input').input], \n",
    "                  dips_bn.get_layer(f'F{F_j}_Dense').output)\n",
    "bnIn = func([X_test[:ni]])  \n",
    "\n",
    "func = K.function([dips_bn.get_layer('Input').input], \n",
    "                  dips_bn.get_layer(f'F{F_j}_BatchNormalization').output)\n",
    "bnOut = func([X_test[:ni]])  "
   ]
  },
  {
   "cell_type": "code",
   "execution_count": null,
   "id": "d3149fef-6c29-4f29-85ff-d23057fea24b",
   "metadata": {},
   "outputs": [],
   "source": []
  },
  {
   "cell_type": "code",
   "execution_count": 98,
   "id": "f743d35d-232c-4060-88f9-a3356a9a1cf1",
   "metadata": {},
   "outputs": [
    {
     "data": {
      "image/png": "[encoded data removed]",
      "text/plain": [
       "<Figure size 432x288 with 1 Axes>"
      ]
     },
     "metadata": {
      "needs_background": "light"
     },
     "output_type": "display_data"
    },
    {
     "data": {
      "image/png": "[encoded data removed]",
      "text/plain": [
       "<Figure size 432x288 with 1 Axes>"
      ]
     },
     "metadata": {
      "needs_background": "light"
     },
     "output_type": "display_data"
    },
    {
     "data": {
      "image/png": "[encoded data removed]",
      "text/plain": [
       "<Figure size 432x288 with 1 Axes>"
      ]
     },
     "metadata": {
      "needs_background": "light"
     },
     "output_type": "display_data"
    },
    {
     "data": {
      "image/png": "[encoded data removed]",
      "text/plain": [
       "<Figure size 432x288 with 1 Axes>"
      ]
     },
     "metadata": {
      "needs_background": "light"
     },
     "output_type": "display_data"
    },
    {
     "data": {
      "image/png": "[encoded data removed]",
      "text/plain": [
       "<Figure size 432x288 with 1 Axes>"
      ]
     },
     "metadata": {
      "needs_background": "light"
     },
     "output_type": "display_data"
    },
    {
     "data": {
      "image/png": "[encoded data removed]",
      "text/plain": [
       "<Figure size 432x288 with 1 Axes>"
      ]
     },
     "metadata": {
      "needs_background": "light"
     },
     "output_type": "display_data"
    }
   ],
   "source": [
    "for feat in range(6):\n",
    "\n",
    "    nbins=100\n",
    "    r=(-5,5)\n",
    "\n",
    "    plt.hist(act[:,feat],nbins,r,color='hotpink',lw=3,\n",
    "             label='default (no batch norm)',histtype='step')\n",
    "    \n",
    "    plt.hist(bnIn[:,feat],nbins,r,color='skyblue',label='before batch norm layer')\n",
    "    plt.hist(bnOut[:,feat],nbins,r,color='navy',lw=3,\n",
    "             label='after batch norm layer',histtype='step')\n",
    "    \n",
    "    '''\n",
    "    Add text to the plot to track the mean + std\n",
    "    '''\n",
    "    lc = ['hotpink','skyblue','navy']\n",
    "    ls = []\n",
    "    for o in [act,bnIn,bnOut]:\n",
    "        oi = o[:,feat]\n",
    "        ls.append(f'$\\mu$ = {oi.mean():.1f}, $\\sigma$ = {oi.std():.1f}')\n",
    "    \n",
    "    _, ymax = plt.ylim()\n",
    "    rainbow_text(-4.8,.98*ymax,ls,lc, ha='left',va='top',yoffset=1)\n",
    "    \n",
    "    plt.xlim(r)\n",
    "    plt.legend(loc='upper right')\n",
    "    plt.xlabel(f'Activations after layer {F_j+1} of the $F$ network')\n",
    "    plt.ylabel('Entries')\n",
    "    plt.title(f'Hidden feature {feat}')\n",
    "    plt.show()"
   ]
  },
  {
   "cell_type": "code",
   "execution_count": null,
   "id": "5ae13c68-328f-463b-ae47-17102ca6b5b6",
   "metadata": {},
   "outputs": [],
   "source": []
  },
  {
   "cell_type": "markdown",
   "id": "df46bb26-1a4d-432b-be18-fafdeed48f3f",
   "metadata": {},
   "source": [
    "And... that's it for today!!\n",
    "\n",
    "\n",
    "Just as a reminder what we learned in this tutorial:\n",
    "\n",
    "1. How to setup and train a deep sets model for a multi-class classification problem\n",
    "2. To boost our understanding - we tested some other permutation invariant operations\n",
    "3. We checked the impact of batch norm on the models and examined the activations\n",
    "\n",
    "But the biggest take away is... hopefully you're convinced that Deep Sets is a fast and easy model to get running - and inspired to test it out on some of your ATLAS research problems :) "
   ]
  },
  {
   "cell_type": "code",
   "execution_count": null,
   "id": "d820b6f8-5cbb-47f5-8567-4afe458f42e8",
   "metadata": {},
   "outputs": [],
   "source": []
  },
  {
   "cell_type": "code",
   "execution_count": null,
   "id": "792791e1",
   "metadata": {},
   "outputs": [],
   "source": []
  },
  {
   "cell_type": "code",
   "execution_count": null,
   "id": "e4385ec3",
   "metadata": {},
   "outputs": [],
   "source": []
  }
 ],
 "metadata": {
  "kernelspec": {
   "display_name": "Python 3",
   "language": "python",
   "name": "python3"
  },
  "language_info": {
   "codemirror_mode": {
    "name": "ipython",
    "version": 3
   },
   "file_extension": ".py",
   "mimetype": "text/x-python",
   "name": "python",
   "nbconvert_exporter": "python",
   "pygments_lexer": "ipython3",
   "version": "3.9.12"
  }
 },
 "nbformat": 4,
 "nbformat_minor": 5
}
