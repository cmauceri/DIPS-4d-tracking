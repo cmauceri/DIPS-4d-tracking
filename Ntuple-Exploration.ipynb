{
 "cells": [
  {
   "cell_type": "markdown",
   "id": "1fd69c0b",
   "metadata": {},
   "source": [
    "# Ntuple preprocessing\n",
    "\n",
    "**Goal:** Take the root [file]() with track time from Lorenzo, and get it ready for ML studies!!\n",
    "\n",
    "1. Open the root file\n",
    "2. Apply some standard FTAG cuts\n",
    "3. Visualize\n",
    "4. ML preprocessing\n"
   ]
  },
  {
   "cell_type": "code",
   "execution_count": 3,
   "id": "04c5720a",
   "metadata": {},
   "outputs": [],
   "source": [
    "import numpy as np\n",
    "import pandas as pd\n",
    "from sklearn.model_selection import train_test_split\n",
    "from sklearn.preprocessing import StandardScaler\n",
    "import h5py\n",
    "\n",
    "import matplotlib.pyplot as plt\n",
    "\n",
    "import uproot\n",
    "import awkward as ak\n",
    "import xarray as xr"
   ]
  },
  {
   "cell_type": "markdown",
   "id": "e946b301",
   "metadata": {},
   "source": [
    "## Step 1: Open the root file"
   ]
  },
  {
   "cell_type": "code",
   "execution_count": 4,
   "id": "5eedb67c",
   "metadata": {},
   "outputs": [],
   "source": [
    "fName = 'data/hadded.root'\n",
    "f = uproot.open(fName)"
   ]
  },
  {
   "cell_type": "code",
   "execution_count": 5,
   "id": "1ae63a12",
   "metadata": {},
   "outputs": [
    {
     "name": "stdout",
     "output_type": "stream",
     "text": [
      "EventTree;1\n",
      "EventLoop_FileExecuted;1\n",
      "EventLoop_JobStats;1\n",
      "EventLoop_RunTime;1\n",
      "EventLoop_EventCount;1\n"
     ]
    }
   ],
   "source": [
    "for k in f.keys():\n",
    "    print(k)"
   ]
  },
  {
   "cell_type": "code",
   "execution_count": 6,
   "id": "0289695e",
   "metadata": {},
   "outputs": [],
   "source": [
    "tName = 'EventTree'\n",
    "t = f[tName]"
   ]
  },
  {
   "cell_type": "code",
   "execution_count": 7,
   "id": "bcf1fce9",
   "metadata": {},
   "outputs": [
    {
     "data": {
      "text/plain": [
       "48310"
      ]
     },
     "execution_count": 7,
     "metadata": {},
     "output_type": "execute_result"
    }
   ],
   "source": [
    "t.num_entries"
   ]
  },
  {
   "cell_type": "markdown",
   "id": "ca076f7f",
   "metadata": {},
   "source": [
    "OK, this Ntuple has 48k events."
   ]
  },
  {
   "cell_type": "markdown",
   "id": "3c99389d",
   "metadata": {},
   "source": [
    "Check what's inside the tree"
   ]
  },
  {
   "cell_type": "code",
   "execution_count": 8,
   "id": "c1ba62d0",
   "metadata": {
    "scrolled": true
   },
   "outputs": [
    {
     "name": "stdout",
     "output_type": "stream",
     "text": [
      "mcChannelNumber\n",
      "EventNumber\n",
      "RunNumber\n",
      "BCID\n",
      "mu\n",
      "muActual\n",
      "beamspot_x\n",
      "beamspot_y\n",
      "beamspot_z\n",
      "beamspot_sigX\n",
      "beamspot_sigY\n",
      "beamspot_sigZ\n",
      "met_Truth\n",
      "mpx_Truth\n",
      "mpy_Truth\n",
      "sumet_Truth\n",
      "track_prob\n",
      "track_d0\n",
      "track_z0\n",
      "track_theta\n",
      "track_phi\n",
      "track_qOverP\n",
      "track_t\n",
      "track_z\n",
      "track_var_d0\n",
      "track_var_z0\n",
      "track_var_phi\n",
      "track_var_theta\n",
      "track_var_qOverP\n",
      "track_cov_d0z0\n",
      "track_cov_d0phi\n",
      "track_cov_d0theta\n",
      "track_cov_d0qOverP\n",
      "track_cov_z0phi\n",
      "track_cov_z0theta\n",
      "track_cov_z0qOverP\n",
      "track_cov_phitheta\n",
      "track_cov_phiqOverP\n",
      "track_cov_tehtaqOverP\n",
      "track_t30\n",
      "track_t60\n",
      "track_t90\n",
      "track_t120\n",
      "track_t180\n",
      "tracks_numPix\n",
      "tracks_numSCT\n",
      "tracks_numPix1L\n",
      "tracks_numPix2L\n",
      "jet_pt\n",
      "jet_eta\n",
      "jet_phi\n",
      "jet_m\n",
      "jet_q\n",
      "jet_ptmatched_pt\n",
      "jet_ptmatched_eta\n",
      "jet_ptmatched_phi\n",
      "jet_ptmatched_m\n",
      "jet_drmatched_pt\n",
      "jet_drmatched_eta\n",
      "jet_drmatched_phi\n",
      "jet_drmatched_m\n",
      "jet_isPU\n",
      "jet_isHS\n",
      "jet_label\n",
      "recovertex_x\n",
      "recovertex_y\n",
      "recovertex_z\n",
      "recovertex_sumPt2\n",
      "recovertex_isPU\n",
      "recovertex_isHS\n",
      "truthvertex_x\n",
      "truthvertex_y\n",
      "truthvertex_z\n",
      "truthvertex_t\n",
      "truthvertex_isPU\n",
      "truthvertex_isHS\n",
      "jet_tracks_idx\n",
      "recovertex_tracks_idx\n",
      "truthvertex_tracks_idx\n"
     ]
    }
   ],
   "source": [
    "for k in t.keys():\n",
    "    print(k)"
   ]
  },
  {
   "cell_type": "markdown",
   "id": "c4223fb4",
   "metadata": {},
   "source": [
    "OK, we'll want to make separate arrays for the event, jet, track, reco and truth vertex variables."
   ]
  },
  {
   "cell_type": "code",
   "execution_count": 9,
   "id": "881ff400",
   "metadata": {},
   "outputs": [],
   "source": [
    "from itertools import product"
   ]
  },
  {
   "cell_type": "code",
   "execution_count": 10,
   "id": "4b7fec20",
   "metadata": {},
   "outputs": [],
   "source": [
    "numEvts=1500  # Just process a subset of the events in the Ntuple"
   ]
  },
  {
   "cell_type": "markdown",
   "id": "089ad940",
   "metadata": {},
   "source": [
    "Note: Currently I can't increase this much larger b/c of SWAN's limit of 16 GB.\n",
    "\n",
    "But I think a good next step is putting some of this code in this notebook in a little script, b/c it's running pretty fast, so should be able to process all 48k events pretty quickly :)"
   ]
  },
  {
   "cell_type": "code",
   "execution_count": 11,
   "id": "0e9835e5",
   "metadata": {},
   "outputs": [],
   "source": [
    "jet_vars  = ['pt','eta','phi','isHS','label']\n",
    "\n",
    "jalias = {v:f'jet_{v}' for v in jet_vars}\n",
    "\n",
    "jdf = t.arrays(jet_vars,library='pd',entry_stop=numEvts,aliases=jalias)"
   ]
  },
  {
   "cell_type": "code",
   "execution_count": 12,
   "id": "b863532c",
   "metadata": {},
   "outputs": [
    {
     "data": {
      "text/html": [
       "<div>\n",
       "<style scoped>\n",
       "    .dataframe tbody tr th:only-of-type {\n",
       "        vertical-align: middle;\n",
       "    }\n",
       "\n",
       "    .dataframe tbody tr th {\n",
       "        vertical-align: top;\n",
       "    }\n",
       "\n",
       "    .dataframe thead th {\n",
       "        text-align: right;\n",
       "    }\n",
       "</style>\n",
       "<table border=\"1\" class=\"dataframe\">\n",
       "  <thead>\n",
       "    <tr style=\"text-align: right;\">\n",
       "      <th></th>\n",
       "      <th>pt</th>\n",
       "      <th>eta</th>\n",
       "      <th>phi</th>\n",
       "      <th>isHS</th>\n",
       "      <th>label</th>\n",
       "    </tr>\n",
       "    <tr>\n",
       "      <th>subentry</th>\n",
       "      <th></th>\n",
       "      <th></th>\n",
       "      <th></th>\n",
       "      <th></th>\n",
       "      <th></th>\n",
       "    </tr>\n",
       "  </thead>\n",
       "  <tbody>\n",
       "    <tr>\n",
       "      <th>0</th>\n",
       "      <td>128.600922</td>\n",
       "      <td>0.824890</td>\n",
       "      <td>2.694299</td>\n",
       "      <td>1</td>\n",
       "      <td>5</td>\n",
       "    </tr>\n",
       "    <tr>\n",
       "      <th>1</th>\n",
       "      <td>0.037655</td>\n",
       "      <td>-4.577873</td>\n",
       "      <td>0.729640</td>\n",
       "      <td>0</td>\n",
       "      <td>0</td>\n",
       "    </tr>\n",
       "    <tr>\n",
       "      <th>2</th>\n",
       "      <td>52.623814</td>\n",
       "      <td>1.610291</td>\n",
       "      <td>-0.735074</td>\n",
       "      <td>0</td>\n",
       "      <td>0</td>\n",
       "    </tr>\n",
       "    <tr>\n",
       "      <th>3</th>\n",
       "      <td>0.037702</td>\n",
       "      <td>-4.220615</td>\n",
       "      <td>-1.494905</td>\n",
       "      <td>0</td>\n",
       "      <td>0</td>\n",
       "    </tr>\n",
       "    <tr>\n",
       "      <th>4</th>\n",
       "      <td>22.291336</td>\n",
       "      <td>-1.734767</td>\n",
       "      <td>-2.986814</td>\n",
       "      <td>0</td>\n",
       "      <td>0</td>\n",
       "    </tr>\n",
       "    <tr>\n",
       "      <th>5</th>\n",
       "      <td>9.337361</td>\n",
       "      <td>-2.135239</td>\n",
       "      <td>1.522684</td>\n",
       "      <td>0</td>\n",
       "      <td>0</td>\n",
       "    </tr>\n",
       "    <tr>\n",
       "      <th>6</th>\n",
       "      <td>0.040433</td>\n",
       "      <td>-2.305586</td>\n",
       "      <td>2.557224</td>\n",
       "      <td>0</td>\n",
       "      <td>0</td>\n",
       "    </tr>\n",
       "    <tr>\n",
       "      <th>7</th>\n",
       "      <td>19.228785</td>\n",
       "      <td>1.743958</td>\n",
       "      <td>-1.848075</td>\n",
       "      <td>1</td>\n",
       "      <td>0</td>\n",
       "    </tr>\n",
       "    <tr>\n",
       "      <th>8</th>\n",
       "      <td>13.469099</td>\n",
       "      <td>-1.816402</td>\n",
       "      <td>2.518317</td>\n",
       "      <td>0</td>\n",
       "      <td>0</td>\n",
       "    </tr>\n",
       "    <tr>\n",
       "      <th>9</th>\n",
       "      <td>12.592849</td>\n",
       "      <td>1.610646</td>\n",
       "      <td>2.142679</td>\n",
       "      <td>0</td>\n",
       "      <td>0</td>\n",
       "    </tr>\n",
       "    <tr>\n",
       "      <th>10</th>\n",
       "      <td>0.048568</td>\n",
       "      <td>2.471846</td>\n",
       "      <td>-2.197562</td>\n",
       "      <td>0</td>\n",
       "      <td>0</td>\n",
       "    </tr>\n",
       "    <tr>\n",
       "      <th>11</th>\n",
       "      <td>24.802301</td>\n",
       "      <td>0.919788</td>\n",
       "      <td>1.345231</td>\n",
       "      <td>0</td>\n",
       "      <td>0</td>\n",
       "    </tr>\n",
       "    <tr>\n",
       "      <th>12</th>\n",
       "      <td>16.189043</td>\n",
       "      <td>1.122225</td>\n",
       "      <td>-0.515194</td>\n",
       "      <td>0</td>\n",
       "      <td>0</td>\n",
       "    </tr>\n",
       "    <tr>\n",
       "      <th>13</th>\n",
       "      <td>18.153992</td>\n",
       "      <td>0.543335</td>\n",
       "      <td>-2.667301</td>\n",
       "      <td>1</td>\n",
       "      <td>0</td>\n",
       "    </tr>\n",
       "    <tr>\n",
       "      <th>14</th>\n",
       "      <td>21.184423</td>\n",
       "      <td>0.112620</td>\n",
       "      <td>-0.513573</td>\n",
       "      <td>0</td>\n",
       "      <td>0</td>\n",
       "    </tr>\n",
       "    <tr>\n",
       "      <th>15</th>\n",
       "      <td>18.599535</td>\n",
       "      <td>0.469174</td>\n",
       "      <td>0.775070</td>\n",
       "      <td>0</td>\n",
       "      <td>0</td>\n",
       "    </tr>\n",
       "    <tr>\n",
       "      <th>16</th>\n",
       "      <td>0.040834</td>\n",
       "      <td>-2.130263</td>\n",
       "      <td>-1.304176</td>\n",
       "      <td>0</td>\n",
       "      <td>0</td>\n",
       "    </tr>\n",
       "  </tbody>\n",
       "</table>\n",
       "</div>"
      ],
      "text/plain": [
       "                  pt       eta       phi  isHS  label\n",
       "subentry                                             \n",
       "0         128.600922  0.824890  2.694299     1      5\n",
       "1           0.037655 -4.577873  0.729640     0      0\n",
       "2          52.623814  1.610291 -0.735074     0      0\n",
       "3           0.037702 -4.220615 -1.494905     0      0\n",
       "4          22.291336 -1.734767 -2.986814     0      0\n",
       "5           9.337361 -2.135239  1.522684     0      0\n",
       "6           0.040433 -2.305586  2.557224     0      0\n",
       "7          19.228785  1.743958 -1.848075     1      0\n",
       "8          13.469099 -1.816402  2.518317     0      0\n",
       "9          12.592849  1.610646  2.142679     0      0\n",
       "10          0.048568  2.471846 -2.197562     0      0\n",
       "11         24.802301  0.919788  1.345231     0      0\n",
       "12         16.189043  1.122225 -0.515194     0      0\n",
       "13         18.153992  0.543335 -2.667301     1      0\n",
       "14         21.184423  0.112620 -0.513573     0      0\n",
       "15         18.599535  0.469174  0.775070     0      0\n",
       "16          0.040834 -2.130263 -1.304176     0      0"
      ]
     },
     "execution_count": 12,
     "metadata": {},
     "output_type": "execute_result"
    }
   ],
   "source": [
    "jdf.loc[0]"
   ]
  },
  {
   "cell_type": "markdown",
   "id": "b9833465",
   "metadata": {},
   "source": [
    "Right, most of these jets are PU and very low $p_T$."
   ]
  },
  {
   "cell_type": "code",
   "execution_count": null,
   "id": "ccc55bfd",
   "metadata": {},
   "outputs": [],
   "source": []
  },
  {
   "cell_type": "markdown",
   "id": "79d850b3",
   "metadata": {},
   "source": [
    "**Goal:** Reshape the track array to _know_ which jet each of the tracks went to."
   ]
  },
  {
   "cell_type": "code",
   "execution_count": 13,
   "id": "b2bbda96",
   "metadata": {},
   "outputs": [],
   "source": [
    "jet_trk_idx = t.arrays('jet_tracks_idx',entry_stop=numEvts)['jet_tracks_idx']\n",
    "\n",
    "'''\n",
    "Right now, `jet_trk_idx` is an awkward array w/ shape (nEvts,nJets,nTrksInJet)\n",
    "but we'll reshape it to be shape (nEvts*nJets,nTrksInJet) to make it easier to\n",
    "apply the jet cuts!\n",
    "'''\n",
    "jet_trk_idx = ak.concatenate(jet_trk_idx,axis=0)"
   ]
  },
  {
   "cell_type": "code",
   "execution_count": 14,
   "id": "66f94aad",
   "metadata": {},
   "outputs": [
    {
     "data": {
      "text/plain": [
       "(48722, 48722)"
      ]
     },
     "execution_count": 14,
     "metadata": {},
     "output_type": "execute_result"
    }
   ],
   "source": [
    "len(jdf), len(jet_trk_idx)"
   ]
  },
  {
   "cell_type": "code",
   "execution_count": null,
   "id": "141bb78b",
   "metadata": {},
   "outputs": [],
   "source": []
  },
  {
   "cell_type": "markdown",
   "id": "043ef4e4",
   "metadata": {},
   "source": [
    "**Definition of `isPU` and `isHS`**  (from Lorenzo):\n",
    "\n",
    "- `isHS`: $\\Delta R(\\text{jet}, \\text{truth HS jet}) < 0.3$\n",
    "- `isPU`: $\\Delta R(\\text{jet}, \\text{truth HS jet}) > 0.6$"
   ]
  },
  {
   "cell_type": "markdown",
   "id": "d2cfa57b",
   "metadata": {},
   "source": [
    "**Jet cuts**\n",
    "\n",
    "Recall what we had from the FlavorTagPerformanceFramework:\n",
    "\n",
    "- Jets with $p_T > 20$ GeV, $|\\eta| < 4$ \n",
    "    * Using $|\\eta| < 4$ instead of $\\eta <2.5$ to be consistent with the GN1 ITk [pub note](http://cds.cern.ch/record/2839913).\n",
    "- JVT cut (0.2 for pflow jets with pt < 60 GeV and $|\\eta| < 2.4$)\n",
    "    *Instead of a JVT cut, we'll just look at the HS jets. `jet_isHS` are the reco jets within $\\Delta R < 0.3$ from a truth jet\n",
    "- Doesn't overlap with an electron or muon (implemented by the `jet_aliveAfterOR` and `jet_aliveAfterORmu` variables)\n",
    "    * **TO DO:** Add with the latest ACTS Ntuple (?)\n"
   ]
  },
  {
   "cell_type": "code",
   "execution_count": 15,
   "id": "04798a5a",
   "metadata": {},
   "outputs": [],
   "source": [
    "jmask = (jdf['pt'] > 20) & (np.abs(jdf['eta']) < 4) & jdf['isHS'].astype('bool')"
   ]
  },
  {
   "cell_type": "code",
   "execution_count": 16,
   "id": "0ff134fd",
   "metadata": {},
   "outputs": [],
   "source": [
    "jdf = jdf[jmask]\n",
    "jet_trk_idx = jet_trk_idx[jmask.values]\n",
    "\n",
    "'''\n",
    "And then unflatten jet_trk_idx to keep the same (nEvts, njets, nTrksInJet)\n",
    "shape as before\n",
    "'''\n",
    "njets = np.array([len(jdf.loc[i,'pt']) for i in range(numEvts)])\n",
    "jet_trk_idx = ak.unflatten(jet_trk_idx,counts=njets)"
   ]
  },
  {
   "cell_type": "code",
   "execution_count": 17,
   "id": "956fdab6",
   "metadata": {},
   "outputs": [
    {
     "data": {
      "image/png": "[encoded data removed]",
      "text/plain": [
       "<Figure size 432x288 with 1 Axes>"
      ]
     },
     "metadata": {
      "needs_background": "light"
     },
     "output_type": "display_data"
    }
   ],
   "source": [
    "nb=11\n",
    "r =(-0.5,10.5)\n",
    "plt.hist(njets,nb,r)\n",
    "\n",
    "plt.xlabel('njets',fontsize=18,loc='right')\n",
    "plt.ylabel('Entries',fontsize=18,loc='top')\n",
    "plt.xlim(r)\n",
    "\n",
    "plt.show()"
   ]
  },
  {
   "cell_type": "code",
   "execution_count": 18,
   "id": "e926b705",
   "metadata": {},
   "outputs": [],
   "source": [
    "# Subset of the track vars (needed for training dips and / or GN1/2)\n",
    "tVars = [f'd0','z0','var_d0', 'var_z0','qOverP','theta','phi','numPix','numSCT']"
   ]
  },
  {
   "cell_type": "code",
   "execution_count": 19,
   "id": "4b296895",
   "metadata": {},
   "outputs": [
    {
     "data": {
      "text/plain": [
       "<Array [[[1057, 1039, 1181, ... 1126, 1393]]] type='1500 * var * var * int64'>"
      ]
     },
     "execution_count": 19,
     "metadata": {},
     "output_type": "execute_result"
    }
   ],
   "source": [
    "jet_trk_idx"
   ]
  },
  {
   "cell_type": "markdown",
   "id": "3d0d38ba",
   "metadata": {},
   "source": [
    "**To do:** Plot the maximum number of tracks in each jet to decide where to truncate."
   ]
  },
  {
   "cell_type": "code",
   "execution_count": 20,
   "id": "ffcd7f28",
   "metadata": {},
   "outputs": [],
   "source": [
    "nTrks = ak.num(ak.flatten(jet_trk_idx))"
   ]
  },
  {
   "cell_type": "code",
   "execution_count": 21,
   "id": "03216f01",
   "metadata": {},
   "outputs": [
    {
     "data": {
      "text/plain": [
       "(7526, 7526)"
      ]
     },
     "execution_count": 21,
     "metadata": {},
     "output_type": "execute_result"
    }
   ],
   "source": [
    "# Check the dimensionality\n",
    "len(nTrks),len(jdf)"
   ]
  },
  {
   "cell_type": "code",
   "execution_count": 22,
   "id": "2551348e",
   "metadata": {},
   "outputs": [
    {
     "data": {
      "image/png": "[encoded data removed]",
      "text/plain": [
       "<Figure size 432x288 with 1 Axes>"
      ]
     },
     "metadata": {
      "needs_background": "light"
     },
     "output_type": "display_data"
    }
   ],
   "source": [
    "maxNumTrks = 40\n",
    "\n",
    "nb=61\n",
    "r =(-0.5,60.5)\n",
    "plt.hist(nTrks,nb,r)\n",
    "\n",
    "ylim = plt.ylim()\n",
    "plt.plot([maxNumTrks]*2,ylim,'r--')\n",
    "plt.ylim(ylim)\n",
    "plt.xlim(r)\n",
    "\n",
    "plt.xlabel('Track multiplicity in jets',fontsize=18,loc='right')\n",
    "plt.ylabel('Entries',fontsize=18,loc='top')\n",
    "plt.show()"
   ]
  },
  {
   "cell_type": "markdown",
   "id": "576752f4",
   "metadata": {},
   "source": [
    "**Game plan:** \n",
    "1. Check the jet -> track association w/ Lorenzo\n",
    "2. Apply track cuts\n",
    "3. Apply a sort\n",
    "\n",
    "**Note:** The way the file is setup now, I'm going to need to do the track -> jet association _before_ applying the track cuts though."
   ]
  },
  {
   "cell_type": "markdown",
   "id": "f07bdc0b",
   "metadata": {},
   "source": [
    "**TO DO** Still need the IPs with respect to the PV.\n",
    "\n",
    "(Will be in the new ACTS Ntuple.)"
   ]
  },
  {
   "cell_type": "code",
   "execution_count": 23,
   "id": "3f49a71c",
   "metadata": {},
   "outputs": [
    {
     "data": {
      "text/plain": [
       "(7526, 40, 13)"
      ]
     },
     "execution_count": 23,
     "metadata": {},
     "output_type": "execute_result"
    }
   ],
   "source": [
    "iVars = tVars + ['sd0','sz0']\n",
    "deriv_vars= ['dr','ptfrac']\n",
    "\n",
    "tnp = np.zeros((len(jdf),maxNumTrks,len(iVars)+len(deriv_vars)))  \n",
    "tnp.shape"
   ]
  },
  {
   "cell_type": "code",
   "execution_count": 24,
   "id": "48ffe673",
   "metadata": {},
   "outputs": [],
   "source": [
    "trk_vars  = ['d0','z0','theta','phi','qOverP']\n",
    "trk_vars += [f'var_{v}' for v in trk_vars]\n",
    "trk_vtrk_vars= ['prob','t','z']  \n",
    "trk_vars += [f't{n}' for n in [30,60,90,120,180]]\n",
    "\n",
    "talias = {v: f'track_{v}' for v in trk_vars}\n",
    "\n",
    "trk_vars += ['numPix','numSCT','numPix1L','numPix2L']\n",
    "for v in trk_vars[-4:]:\n",
    "    talias[v] = f'tracks_{v}'\n",
    "\n",
    "# derived vars \n",
    "talias['sd0'] = 'd0/var_d0'\n",
    "talias['sz0'] = 'z0/var_z0'\n",
    "talias['pt']  = '0.001 * abs(1/qOverP) * sin(theta)'\n",
    "talias['eta']  = '- log(tan(theta/2))'\n",
    "\n",
    "tak = t.arrays(trk_vars+['sd0','sz0','pt','eta'],\n",
    "               entry_stop=numEvts,aliases=talias)"
   ]
  },
  {
   "cell_type": "markdown",
   "id": "35174c24",
   "metadata": {},
   "source": [
    "Look at a couple of intuition plots:"
   ]
  },
  {
   "cell_type": "code",
   "execution_count": 25,
   "id": "952d921f",
   "metadata": {},
   "outputs": [
    {
     "data": {
      "image/png": "[encoded data removed]",
      "text/plain": [
       "<Figure size 432x288 with 1 Axes>"
      ]
     },
     "metadata": {
      "needs_background": "light"
     },
     "output_type": "display_data"
    }
   ],
   "source": [
    "r = (0,5)\n",
    "plt.hist(ak.flatten(tak['pt']),100,(0,10))\n",
    "plt.xlabel('Track $p_T$ [GeV]',fontsize=18,loc='right')\n",
    "plt.ylabel('Entries',fontsize=18,loc='top')\n",
    "plt.xlim(r)\n",
    "\n",
    "ylim = plt.ylim()\n",
    "plt.plot([0.5]*2, ylim, 'r--')\n",
    "plt.ylim(ylim)\n",
    "\n",
    "plt.show()"
   ]
  },
  {
   "cell_type": "code",
   "execution_count": 26,
   "id": "0e5b62e2",
   "metadata": {},
   "outputs": [
    {
     "data": {
      "text/plain": [
       "0.4000003"
      ]
     },
     "execution_count": 26,
     "metadata": {},
     "output_type": "execute_result"
    }
   ],
   "source": [
    "np.min(tak['pt'])"
   ]
  },
  {
   "cell_type": "markdown",
   "id": "ad075a7c",
   "metadata": {},
   "source": [
    "It looks like there's already a $p_T$ > 400 MeV cut in the Ntuple creation."
   ]
  },
  {
   "cell_type": "code",
   "execution_count": 27,
   "id": "1bf8adff",
   "metadata": {},
   "outputs": [
    {
     "data": {
      "image/png": "[encoded data removed]",
      "text/plain": [
       "<Figure size 432x288 with 1 Axes>"
      ]
     },
     "metadata": {
      "needs_background": "light"
     },
     "output_type": "display_data"
    }
   ],
   "source": [
    "r = (-5,5)\n",
    "plt.hist(ak.flatten(tak['d0']),100,r)\n",
    "plt.xlabel('Track $d_0$ [mm] (w/r.t. beam spot)',fontsize=18,loc='right')\n",
    "plt.ylabel('Entries',fontsize=18,loc='top')\n",
    "plt.xlim(r)\n",
    "\n",
    "ylim = plt.ylim()\n",
    "plt.plot([-3.5]*2, ylim, 'r--')\n",
    "plt.plot([ 3.5]*2, ylim, 'r--')\n",
    "plt.ylim(ylim)\n",
    "\n",
    "plt.show()"
   ]
  },
  {
   "cell_type": "markdown",
   "id": "df087b5f",
   "metadata": {},
   "source": [
    "A $d_0$ < 3.5 mm cut won't reject too many tracks, even if this $d_0$ is w/r.t. the beam spot instead of the PV."
   ]
  },
  {
   "cell_type": "code",
   "execution_count": null,
   "id": "e165687c",
   "metadata": {},
   "outputs": [],
   "source": []
  },
  {
   "cell_type": "code",
   "execution_count": null,
   "id": "e137dd96",
   "metadata": {},
   "outputs": [],
   "source": []
  },
  {
   "cell_type": "code",
   "execution_count": 28,
   "id": "fc02acac",
   "metadata": {},
   "outputs": [],
   "source": [
    "\"\"\"\n",
    "This has the structure I want: \n",
    "nJets, nTrks, nFeatures\n",
    "\"\"\"\n",
    "tarr = ak.Array([tak_i[jlinks] for tak_i,evt_lev_links in zip(tak,jet_trk_idx) \n",
    "                                   for jlinks in evt_lev_links])"
   ]
  },
  {
   "cell_type": "code",
   "execution_count": 29,
   "id": "0bd68d65",
   "metadata": {},
   "outputs": [],
   "source": [
    "idx = ak.argsort(np.abs(tarr[\"sd0\"]),ascending=False)"
   ]
  },
  {
   "cell_type": "code",
   "execution_count": 30,
   "id": "e4108924",
   "metadata": {},
   "outputs": [
    {
     "data": {
      "text/plain": [
       "<Array [1.93e+04, 7.6e+03, ... 0.728, 0.419] type='20 * float64'>"
      ]
     },
     "execution_count": 30,
     "metadata": {},
     "output_type": "execute_result"
    }
   ],
   "source": [
    "# Sanity check it worked\n",
    "abs(tarr[idx][\"sd0\"][0])"
   ]
  },
  {
   "cell_type": "code",
   "execution_count": 31,
   "id": "c94e7bdc",
   "metadata": {},
   "outputs": [
    {
     "data": {
      "text/plain": [
       "<Array [{d0: [-0.891, 0.281, ... -0.753]}] type='7526 * {\"d0\": var * float64, \"z...'>"
      ]
     },
     "execution_count": 31,
     "metadata": {},
     "output_type": "execute_result"
    }
   ],
   "source": [
    "# 1. Mask\n",
    "'''\n",
    "TO DO: Add the z0 * sin(theta) < 5 mm cut\n",
    "(and pixel quality cuts? or are those already here?)\n",
    "'''\n",
    "tmask = (tarr['pt'] > 0.5) & (abs(tarr['d0']) < 3.5)\n",
    "\n",
    "# Sort\n",
    "idx = ak.argsort(np.abs(tarr[\"sd0\"][tmask]),ascending=False)\n",
    "\n",
    "tarr[tmask][idx]"
   ]
  },
  {
   "cell_type": "code",
   "execution_count": 32,
   "id": "ebfbcdc6",
   "metadata": {},
   "outputs": [],
   "source": [
    "deta = tarr['eta']-jdf['eta']\n",
    "dphi = np.arcsin(np.sin(tarr['phi']-jdf['phi']))\n",
    "\n",
    "dr = np.sqrt(deta**2 + dphi**2)"
   ]
  },
  {
   "cell_type": "code",
   "execution_count": 33,
   "id": "8f6824e5",
   "metadata": {},
   "outputs": [
    {
     "data": {
      "image/png": "[encoded data removed]",
      "text/plain": [
       "<Figure size 1080x288 with 3 Axes>"
      ]
     },
     "metadata": {
      "needs_background": "light"
     },
     "output_type": "display_data"
    }
   ],
   "source": [
    "fig, ax = plt.subplots(1,3,figsize=(15,4))\n",
    "\n",
    "ax[0].hist(ak.flatten(deta),100)\n",
    "ax[0].set_xlabel('$\\Delta\\eta$(track, jet)',fontsize=18,loc='right')\n",
    "ax[0].set_ylabel('Entries',fontsize=18,loc='top')\n",
    "\n",
    "ax[1].hist(ak.flatten(dphi),100)\n",
    "ax[1].set_xlabel('$\\Delta\\phi$(track, jet)',fontsize=18,loc='right')\n",
    "\n",
    "ax[2].hist(ak.flatten(dr),100)\n",
    "ax[2].set_xlabel('$\\Delta R$(track, jet)',fontsize=18,loc='right')\n",
    "\n",
    "plt.show()"
   ]
  },
  {
   "cell_type": "markdown",
   "id": "20ebecd2",
   "metadata": {},
   "source": [
    "Is something suspicious here with $\\Delta R$?"
   ]
  },
  {
   "cell_type": "code",
   "execution_count": 34,
   "id": "b4c67456",
   "metadata": {},
   "outputs": [],
   "source": [
    "ptfrac = tarr['pt']/jdf['pt']"
   ]
  },
  {
   "cell_type": "code",
   "execution_count": 35,
   "id": "7fa88f7b",
   "metadata": {},
   "outputs": [
    {
     "data": {
      "image/png": "[encoded data removed]",
      "text/plain": [
       "<Figure size 432x288 with 1 Axes>"
      ]
     },
     "metadata": {
      "needs_background": "light"
     },
     "output_type": "display_data"
    }
   ],
   "source": [
    "plt.hist(ak.flatten(ptfrac),100,(0,0.4))\n",
    "plt.xlabel('$p_T^{frac} = p_T^{trk} / p_T^{jet}$',fontsize=18,loc='right')\n",
    "plt.ylabel('Entries',fontsize=18,loc='top')\n",
    "# plt.xlim(r)\n",
    "\n",
    "plt.show()"
   ]
  },
  {
   "cell_type": "code",
   "execution_count": 36,
   "id": "e2d514a7",
   "metadata": {},
   "outputs": [
    {
     "data": {
      "text/plain": [
       "['d0', 'z0', 'var_d0', 'var_z0', 'qOverP', 'theta', 'phi', 'numPix', 'numSCT']"
      ]
     },
     "execution_count": 36,
     "metadata": {},
     "output_type": "execute_result"
    }
   ],
   "source": [
    "tVars"
   ]
  },
  {
   "cell_type": "code",
   "execution_count": 37,
   "id": "479cb2f7",
   "metadata": {},
   "outputs": [],
   "source": [
    "assert len(iVars) + 2 == tnp.shape[-1] # Sanity check the dimensions\n",
    "\n",
    "for i,v in enumerate(iVars):\n",
    "    padded = ak.fill_none(ak.pad_none(tarr[tmask][idx][v], maxNumTrks, clip=True), 0)\n",
    "    tnp[:,:,i] = np.asarray(padded)\n",
    "    \n",
    "# And now also for the newly derived variables\n",
    "for k,varr in zip(['ptfrac','dr'],[ptfrac,dr]):\n",
    "    \n",
    "    i+=1\n",
    "    \n",
    "    padded = ak.fill_none(ak.pad_none(varr[tmask][idx], maxNumTrks, clip=True), 0)\n",
    "    tnp[:,:,i] = np.asarray(padded)\n",
    "    "
   ]
  },
  {
   "cell_type": "code",
   "execution_count": 38,
   "id": "733b1ae5",
   "metadata": {},
   "outputs": [],
   "source": [
    "'''\n",
    "Save to an xarray object (generalization of df for higher dim data)\n",
    "'''\n",
    "trk_xr = xr.DataArray(tnp,\n",
    "                      coords=[('jet',np.arange(len(jdf))),\n",
    "                              ('trk',np.arange(maxNumTrks)),\n",
    "                              ('var',iVars+deriv_vars)])\n"
   ]
  },
  {
   "cell_type": "markdown",
   "id": "5517b780",
   "metadata": {},
   "source": [
    "## Visualize the variables we would cut on for the tracks"
   ]
  },
  {
   "cell_type": "markdown",
   "id": "5a57090b",
   "metadata": {},
   "source": [
    "**Goal:** Plot the track features"
   ]
  },
  {
   "cell_type": "code",
   "execution_count": 39,
   "id": "23926fdc",
   "metadata": {
    "scrolled": false
   },
   "outputs": [
    {
     "data": {
      "image/png": "[encoded data removed]",
      "text/plain": [
       "<Figure size 432x288 with 1 Axes>"
      ]
     },
     "metadata": {
      "needs_background": "light"
     },
     "output_type": "display_data"
    },
    {
     "data": {
      "image/png": "[encoded data removed]",
      "text/plain": [
       "<Figure size 432x288 with 1 Axes>"
      ]
     },
     "metadata": {
      "needs_background": "light"
     },
     "output_type": "display_data"
    },
    {
     "data": {
      "image/png": "[encoded data removed]",
      "text/plain": [
       "<Figure size 432x288 with 1 Axes>"
      ]
     },
     "metadata": {
      "needs_background": "light"
     },
     "output_type": "display_data"
    },
    {
     "data": {
      "image/png": "[encoded data removed]",
      "text/plain": [
       "<Figure size 432x288 with 1 Axes>"
      ]
     },
     "metadata": {
      "needs_background": "light"
     },
     "output_type": "display_data"
    },
    {
     "data": {
      "image/png": "[encoded data removed]",
      "text/plain": [
       "<Figure size 432x288 with 1 Axes>"
      ]
     },
     "metadata": {
      "needs_background": "light"
     },
     "output_type": "display_data"
    },
    {
     "data": {
      "image/png": "[encoded data removed]",
      "text/plain": [
       "<Figure size 432x288 with 1 Axes>"
      ]
     },
     "metadata": {
      "needs_background": "light"
     },
     "output_type": "display_data"
    },
    {
     "data": {
      "image/png": "[encoded data removed]",
      "text/plain": [
       "<Figure size 432x288 with 1 Axes>"
      ]
     },
     "metadata": {
      "needs_background": "light"
     },
     "output_type": "display_data"
    },
    {
     "data": {
      "image/png": "[encoded data removed]",
      "text/plain": [
       "<Figure size 432x288 with 1 Axes>"
      ]
     },
     "metadata": {
      "needs_background": "light"
     },
     "output_type": "display_data"
    },
    {
     "data": {
      "image/png": "[encoded data removed]",
      "text/plain": [
       "<Figure size 432x288 with 1 Axes>"
      ]
     },
     "metadata": {
      "needs_background": "light"
     },
     "output_type": "display_data"
    },
    {
     "data": {
      "image/png": "[encoded data removed]",
      "text/plain": [
       "<Figure size 432x288 with 1 Axes>"
      ]
     },
     "metadata": {
      "needs_background": "light"
     },
     "output_type": "display_data"
    },
    {
     "data": {
      "image/png": "[encoded data removed]",
      "text/plain": [
       "<Figure size 432x288 with 1 Axes>"
      ]
     },
     "metadata": {
      "needs_background": "light"
     },
     "output_type": "display_data"
    }
   ],
   "source": [
    "# data has shape (nJets,maxNumTrks,nFeatures), so to sort out the mask,\n",
    "# we need to find where the value is masked for a track over\n",
    "# all of it's features.\n",
    "tmask = ~ np.all(tnp == 0, axis=-1) # shape (nJets,nTrks)\n",
    "\n",
    "for v in iVars:\n",
    "    \n",
    "    plt.figure()\n",
    "    \n",
    "    plt.hist(trk_xr.loc[:,:,v].values[tmask],100,density=True)\n",
    "    plt.xlabel(v,fontsize=14)\n",
    "    plt.ylabel('Entries',fontsize=14)\n",
    "    \n",
    "    plt.show()\n",
    "    "
   ]
  },
  {
   "cell_type": "code",
   "execution_count": null,
   "id": "10a219ee",
   "metadata": {},
   "outputs": [],
   "source": []
  },
  {
   "cell_type": "markdown",
   "id": "61fb4375",
   "metadata": {},
   "source": [
    "### ML preprocessing\n"
   ]
  },
  {
   "cell_type": "markdown",
   "id": "049607f2",
   "metadata": {},
   "source": [
    "**Scale the track features**"
   ]
  },
  {
   "cell_type": "code",
   "execution_count": 40,
   "id": "6c969b87",
   "metadata": {},
   "outputs": [],
   "source": [
    "import json"
   ]
  },
  {
   "cell_type": "code",
   "execution_count": 41,
   "id": "e906479a",
   "metadata": {},
   "outputs": [],
   "source": [
    "def scale(data, var_names, savevars, filename='data/trk_scales.json', mask_value=0,\n",
    "          jetData=None):\n",
    "    '''\n",
    "    \n",
    "    Scaling function for the track features\n",
    "    \n",
    "    Args:\n",
    "    -----\n",
    "        data: a numpy array of shape (nb_events, nb_particles, n_variables)\n",
    "        var_names: list of keys to be used for the model\n",
    "        savevars: bool -- True for training, False for testinh\n",
    "                  it decides whether we want to fit on data to find mean and std\n",
    "                  or if we want to use those stored in the json file\n",
    "        filename: string: Where to save the output\n",
    "        mask_value: the value to mask when taking the avg and stdev\n",
    "\n",
    "    Returns:\n",
    "    --------\n",
    "        modifies data in place, writes out scaling dictionary\n",
    "\n",
    "    Reference: Taken from Micky's dataprocessing.py file in\n",
    "    https://github.com/mickypaganini/RNNIP\n",
    "    '''\n",
    "    \n",
    "    scale = {}\n",
    "\n",
    "    # data has shape (nJets,maxNumTrks,nFeatures), so to sort out the mask,\n",
    "    # we need to find where the value is masked for a track over\n",
    "    # all of it's features.\n",
    "    mask = ~ np.all(data == mask_value, axis=-1) # shape (nJets,nTrks)\n",
    "\n",
    "    if savevars:\n",
    "\n",
    "        # track variables\n",
    "        for v, name in enumerate(var_names):\n",
    "            print('Scaling feature {} of {} ({}).'.format(v + 1, len(var_names), name))\n",
    "            f = data[:, :, v]\n",
    "            slc = f[mask]\n",
    "            m, s = slc.mean(), slc.std()\n",
    "            slc -= m\n",
    "            slc /= s\n",
    "            data[:, :, v][mask] = slc.astype('float32')\n",
    "            scale[name] = {'mean' : float(m), 'sd' : float(s)}\n",
    "           \n",
    "        # Jet variables\n",
    "        if jetData is not None:\n",
    "            scaler = StandardScaler(copy=False) # scale the data in place\n",
    "            scaler.fit_transform(jetData)\n",
    "            scale['jet_mean'] = scaler.mean_\n",
    "            scale['jet_scale'] = scaler.scale_\n",
    "            scale['jet_var'] = scaler.var_\n",
    "            scale['n_samples_seen'] = scaler.n_samples_seen_\n",
    "            \n",
    "        with open(filename, 'w') as varfile:\n",
    "            json.dump(scale, varfile)\n",
    "\n",
    "    else:\n",
    "        with open(filename, 'r') as varfile:\n",
    "            varinfo = json.load(varfile)\n",
    "\n",
    "        # track variables\n",
    "        for v, name in enumerate(var_names):\n",
    "            print('Scaling feature {} of {} ({}).'.format(v + 1, len(var_names), name))\n",
    "            f = data[:, :, v]\n",
    "            slc = f[mask]\n",
    "            m = varinfo[name]['mean']\n",
    "            s = varinfo[name]['sd']\n",
    "            slc -= m\n",
    "            slc /= s\n",
    "            data[:, :, v][mask] = slc.astype('float32')\n",
    "                        \n",
    "        if jetData is not None:\n",
    "            scaler = StandardScaler(copy=False) # scale the data in place\n",
    "            varinfo['jet_mean'] = scaler.mean_\n",
    "            varinfo['jet_scale'] = scaler.scale_\n",
    "            varinfo['jet_var'] = scaler.var_\n",
    "            varinfo['n_samples_seen'] = scaler.n_samples_seen_\n",
    "            scaler.transform(jetData)"
   ]
  },
  {
   "cell_type": "code",
   "execution_count": null,
   "id": "d9929914",
   "metadata": {},
   "outputs": [],
   "source": []
  },
  {
   "cell_type": "code",
   "execution_count": 42,
   "id": "aed86231",
   "metadata": {},
   "outputs": [
    {
     "name": "stdout",
     "output_type": "stream",
     "text": [
      "Scaling feature 1 of 9 (d0).\n",
      "Scaling feature 2 of 9 (z0).\n",
      "Scaling feature 3 of 9 (var_d0).\n",
      "Scaling feature 4 of 9 (var_z0).\n",
      "Scaling feature 5 of 9 (qOverP).\n",
      "Scaling feature 6 of 9 (theta).\n",
      "Scaling feature 7 of 9 (phi).\n",
      "Scaling feature 8 of 9 (numPix).\n",
      "Scaling feature 9 of 9 (numSCT).\n"
     ]
    }
   ],
   "source": [
    "scaled_tarr = np.copy(tnp)\n",
    "scale(scaled_tarr,tVars, True)"
   ]
  },
  {
   "cell_type": "markdown",
   "id": "5b51e129",
   "metadata": {},
   "source": [
    "**Find the jet weights**\n",
    "\n",
    "Althought GN1 does a \"downsampling\" procedure, to keep it _simple_ for starting, let's just apply some jet and track level weights.\n"
   ]
  },
  {
   "cell_type": "code",
   "execution_count": 43,
   "id": "2af95c51",
   "metadata": {},
   "outputs": [
    {
     "data": {
      "text/html": [
       "<div>\n",
       "<style scoped>\n",
       "    .dataframe tbody tr th:only-of-type {\n",
       "        vertical-align: middle;\n",
       "    }\n",
       "\n",
       "    .dataframe tbody tr th {\n",
       "        vertical-align: top;\n",
       "    }\n",
       "\n",
       "    .dataframe thead th {\n",
       "        text-align: right;\n",
       "    }\n",
       "</style>\n",
       "<table border=\"1\" class=\"dataframe\">\n",
       "  <thead>\n",
       "    <tr style=\"text-align: right;\">\n",
       "      <th></th>\n",
       "      <th></th>\n",
       "      <th>pt</th>\n",
       "      <th>eta</th>\n",
       "      <th>phi</th>\n",
       "      <th>isHS</th>\n",
       "      <th>label</th>\n",
       "    </tr>\n",
       "    <tr>\n",
       "      <th>entry</th>\n",
       "      <th>subentry</th>\n",
       "      <th></th>\n",
       "      <th></th>\n",
       "      <th></th>\n",
       "      <th></th>\n",
       "      <th></th>\n",
       "    </tr>\n",
       "  </thead>\n",
       "  <tbody>\n",
       "    <tr>\n",
       "      <th>0</th>\n",
       "      <th>0</th>\n",
       "      <td>128.600922</td>\n",
       "      <td>0.824890</td>\n",
       "      <td>2.694299</td>\n",
       "      <td>1</td>\n",
       "      <td>5</td>\n",
       "    </tr>\n",
       "    <tr>\n",
       "      <th rowspan=\"4\" valign=\"top\">1</th>\n",
       "      <th>0</th>\n",
       "      <td>313.949249</td>\n",
       "      <td>1.476636</td>\n",
       "      <td>0.305897</td>\n",
       "      <td>1</td>\n",
       "      <td>0</td>\n",
       "    </tr>\n",
       "    <tr>\n",
       "      <th>1</th>\n",
       "      <td>199.966324</td>\n",
       "      <td>-0.246148</td>\n",
       "      <td>2.578580</td>\n",
       "      <td>1</td>\n",
       "      <td>5</td>\n",
       "    </tr>\n",
       "    <tr>\n",
       "      <th>2</th>\n",
       "      <td>188.229691</td>\n",
       "      <td>-1.578895</td>\n",
       "      <td>-1.160125</td>\n",
       "      <td>1</td>\n",
       "      <td>0</td>\n",
       "    </tr>\n",
       "    <tr>\n",
       "      <th>3</th>\n",
       "      <td>87.320175</td>\n",
       "      <td>-0.872998</td>\n",
       "      <td>-1.340151</td>\n",
       "      <td>1</td>\n",
       "      <td>0</td>\n",
       "    </tr>\n",
       "  </tbody>\n",
       "</table>\n",
       "</div>"
      ],
      "text/plain": [
       "                        pt       eta       phi  isHS  label\n",
       "entry subentry                                             \n",
       "0     0         128.600922  0.824890  2.694299     1      5\n",
       "1     0         313.949249  1.476636  0.305897     1      0\n",
       "      1         199.966324 -0.246148  2.578580     1      5\n",
       "      2         188.229691 -1.578895 -1.160125     1      0\n",
       "      3          87.320175 -0.872998 -1.340151     1      0"
      ]
     },
     "execution_count": 43,
     "metadata": {},
     "output_type": "execute_result"
    }
   ],
   "source": [
    "jdf.head()"
   ]
  },
  {
   "cell_type": "code",
   "execution_count": 44,
   "id": "0393efda",
   "metadata": {},
   "outputs": [],
   "source": [
    "def pTReweight(jdf):\n",
    "    '''\n",
    "    Do the pT reweighting for the sample, and add a new col \n",
    "    `sample_weight` to the dataframe\n",
    "\n",
    "    Inputs:\n",
    "    - jdf: pandas dataframe w/ the jet level variables\n",
    "    '''\n",
    "    # Set the bin edged\n",
    "    start, step = 0, 10 # GeV\n",
    "    stop = np.max(jdf.pt)\n",
    "    pT_edges = np.arange(start, stop+step, step)\n",
    "\n",
    "    # Get the bin that each entry corresponds to\n",
    "    x_ind = np.digitize(jdf.pt, pT_edges) - 1\n",
    "\n",
    "    # Make the histograms\n",
    "    l_hist, _ = np.histogram(jdf.loc[jdf.label==0,'pt'].values, bins=pT_edges)\n",
    "    c_hist, _ = np.histogram(jdf.loc[jdf.label==4,'pt'].values, bins=pT_edges)\n",
    "    b_hist, _ = np.histogram(jdf.loc[jdf.label==5,'pt'].values, bins=pT_edges)\n",
    "\n",
    "    # Normalize and add epsilon so that you never get a divide by 0 error\n",
    "    epsilon = 1e-8\n",
    "    l_hist = l_hist / np.sum(l_hist) + epsilon\n",
    "    c_hist = c_hist / np.sum(c_hist) + epsilon\n",
    "    b_hist = b_hist / np.sum(b_hist) + epsilon\n",
    "\n",
    "    # Reweight the b-jets and c-jets to the l-jet pT (and maybe later eta) dist \n",
    "    jdf['sample_weight'] = np.ones(len(jdf))\n",
    "    \n",
    "    for pdg,ref_hist in zip([4,5],[c_hist,b_hist]):\n",
    "        mi = (jdf.label==pdg)\n",
    "        jdf.loc[mi,'sample_weight'] = l_hist[x_ind[mi]] / ref_hist[x_ind[mi]]\n",
    "\n"
   ]
  },
  {
   "cell_type": "code",
   "execution_count": 45,
   "id": "76715116",
   "metadata": {},
   "outputs": [],
   "source": [
    "pTReweight(jdf)"
   ]
  },
  {
   "cell_type": "code",
   "execution_count": 46,
   "id": "fdd90992",
   "metadata": {},
   "outputs": [
    {
     "data": {
      "text/plain": [
       "Index(['pt', 'eta', 'phi', 'isHS', 'label', 'sample_weight'], dtype='object')"
      ]
     },
     "execution_count": 46,
     "metadata": {},
     "output_type": "execute_result"
    }
   ],
   "source": [
    "jdf.columns"
   ]
  },
  {
   "cell_type": "code",
   "execution_count": null,
   "id": "b655a9d7",
   "metadata": {},
   "outputs": [],
   "source": []
  },
  {
   "cell_type": "markdown",
   "id": "185353fd",
   "metadata": {},
   "source": [
    "**Save to a .h5 file**"
   ]
  },
  {
   "cell_type": "code",
   "execution_count": 47,
   "id": "a4d3ccc3",
   "metadata": {},
   "outputs": [
    {
     "name": "stdout",
     "output_type": "stream",
     "text": [
      "X.shape =  (7526, 40, 8)\n",
      "mask (7526, 40)\n",
      "scalingfile data/scale_sd0_sz0_logNorm_ptfrac_dr_norm_numPix_numSCT_d0_z0.json\n",
      "Scaling feature 1 of 6 (ptfrac).\n",
      "Scaling feature 2 of 6 (dr).\n",
      "Scaling feature 3 of 6 (numPix).\n",
      "Scaling feature 4 of 6 (numSCT).\n",
      "Scaling feature 5 of 6 (d0).\n",
      "Scaling feature 6 of 6 (z0).\n",
      "Scaling feature 1 of 6 (ptfrac).\n",
      "Scaling feature 2 of 6 (dr).\n",
      "Scaling feature 3 of 6 (numPix).\n",
      "Scaling feature 4 of 6 (numSCT).\n",
      "Scaling feature 5 of 6 (d0).\n",
      "Scaling feature 6 of 6 (z0).\n",
      "Saving datasets in data/output.hdf5\n"
     ]
    }
   ],
   "source": [
    "'''\n",
    "MISSING from this Ntuple: nNextToInnHits,nInnHits,nsharedBLHits, nsplitBLHits,\n",
    "                          nsharedPixHits,nsplitPixHits,nsharedSCTHits\n",
    "TO DO (later) -- add to noNormVars\n",
    "\n",
    "ALSO TO DO: d0, z0, sd0 and sz0 need to be w/r.t. PV (instead of beam spot)\n",
    "'''\n",
    "\n",
    "# Step 0: Process the string inputs for the vars in each norm sheme -> list\n",
    "noNormVars = ['sd0','sz0']\n",
    "logNormVars = ['ptfrac','dr']\n",
    "jointNormVars = ['numPix', 'numSCT','d0','z0']\n",
    "\n",
    "# Jet variables to pass to the network\n",
    "# Default an empty list, but pass pt and eta for GN2\n",
    "jetVars = []\n",
    "\n",
    "# Step 1: Select the relevant variables\n",
    "inpts = noNormVars + logNormVars + jointNormVars\n",
    "\n",
    "# Check that all of the requested inputs are actually vars in trk_xr\n",
    "trkInputs = list(trk_xr.coords['var'].values)\n",
    "for inpt in inpts:\n",
    "    if inpt not in trkInputs:\n",
    "        raise ValueError('In prepareForKeras(): requested var {} not in trk_xr'.format(inpt))\n",
    "\n",
    "X = trk_xr.loc[:,:,inpts].values\n",
    "X_jet = jdf[jetVars]\n",
    "ix = trk_xr.indexes['jet']\n",
    "print(\"X.shape = \", X.shape)\n",
    "\n",
    "# Keep track of which tracks in the jet are masked\n",
    "mask = ~ np.all(X == 0, axis=-1)\n",
    "print(\"mask\",mask.shape)\n",
    "\n",
    "# Take the log of the desired variables\n",
    "for i, v in enumerate(logNormVars):\n",
    "    j = i + len(noNormVars)\n",
    "    X[:,:,j][mask] = np.log(np.where(X[:,:,j][mask]==0,1e-8,X[:,:,j][mask]))\n",
    "\n",
    "# Step 2: Train / test split\n",
    "pdg_to_class = {0:0, 4:1, 5:2, 15:3}\n",
    "y = jdf.label.replace(pdg_to_class).values\n",
    "\n",
    "random_seed = 25\n",
    "X_train, X_test, y_train, y_test, ix_train, ix_test, w_train, w_test, = \\\n",
    "    train_test_split(X, y, ix, jdf.sample_weight, test_size=0.333,\n",
    "                     random_state=random_seed)\n",
    "\n",
    "# Step 3: Normalize the requested inputs\n",
    "\n",
    "# Get a string representing the variables getting scaled\n",
    "varTag = \"_\".join(noNormVars) if len(noNormVars) != 0 else ''\n",
    "varTag += '_logNorm_' + \"_\".join(logNormVars) if len(logNormVars) != 0 else ''\n",
    "varTag += '_norm_' + \"_\".join(jointNormVars) if len(jointNormVars) != 0 else ''\n",
    "\n",
    "# Scale the vars and save the files\n",
    "scalingfile = f\"data/scale_{varTag}.json\"\n",
    "print(\"scalingfile\",scalingfile)\n",
    "\n",
    "if len(logNormVars)+len(jointNormVars) > 0:\n",
    "\n",
    "    scale(X_train[:,:,len(noNormVars):], logNormVars+jointNormVars, savevars=True,  filename=scalingfile)\n",
    "    scale(X_test[:,:, len(noNormVars):], logNormVars+jointNormVars, savevars=False, filename=scalingfile)\n",
    "\n",
    "myDict = {\n",
    "    \"X_train\" : X_train,\n",
    "    \"y_train\" : y_train,\n",
    "    \"ix_train\" : ix_train,\n",
    "    \"weights_train\" : w_train,\n",
    "\n",
    "    \"X_test\" : X_test,\n",
    "    \"y_test\" : y_test,\n",
    "    \"ix_test\" : ix_test,\n",
    "    \"weights_test\" : w_test,\n",
    "}\n",
    "\n",
    "# Step 4: Save as h5py files\n",
    "outputFile = 'data/output.hdf5'\n",
    "print(\"Saving datasets in {}\".format(outputFile))\n",
    "f = h5py.File(outputFile, 'w')\n",
    "\n",
    "for key, val in myDict.items():\n",
    "    f.create_dataset(key, data=val)\n",
    "\n",
    "f.close()"
   ]
  },
  {
   "cell_type": "code",
   "execution_count": null,
   "id": "84cce0de",
   "metadata": {},
   "outputs": [],
   "source": []
  },
  {
   "cell_type": "code",
   "execution_count": null,
   "id": "6cec4f87",
   "metadata": {},
   "outputs": [],
   "source": []
  },
  {
   "cell_type": "code",
   "execution_count": null,
   "id": "6d2117b7",
   "metadata": {
    "slideshow": {
     "slide_type": "slide"
    }
   },
   "outputs": [],
   "source": []
  }
 ],
 "metadata": {
  "kernelspec": {
   "display_name": "Python 3",
   "language": "python",
   "name": "python3"
  },
  "language_info": {
   "codemirror_mode": {
    "name": "ipython",
    "version": 3
   },
   "file_extension": ".py",
   "mimetype": "text/x-python",
   "name": "python",
   "nbconvert_exporter": "python",
   "pygments_lexer": "ipython3",
   "version": "3.9.12"
  }
 },
 "nbformat": 4,
 "nbformat_minor": 5
}
